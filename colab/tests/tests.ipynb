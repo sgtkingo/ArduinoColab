{
 "cells": [
  {
   "cell_type": "markdown",
   "id": "e5275772",
   "metadata": {},
   "source": [
    "# DEMO: Jupyter Notebook Oriented Programing Environment for Arduiono-like Devices (*NOPEAD*) "
   ]
  },
  {
   "cell_type": "markdown",
   "id": "249e8e96",
   "metadata": {},
   "source": [
    "## Preparation"
   ]
  },
  {
   "cell_type": "markdown",
   "id": "df8757fd",
   "metadata": {},
   "source": [
    "### Project"
   ]
  },
  {
   "cell_type": "code",
   "execution_count": 2,
   "id": "6a1df9b5",
   "metadata": {},
   "outputs": [
    {
     "name": "stdout",
     "output_type": "stream",
     "text": [
      "Requirement already satisfied: arduino_colab_kernel in h:\\můj disk\\projekty\\arduinoproject\\arduinocolab\\.venv\\lib\\site-packages (0.1.2)\n",
      "Requirement already satisfied: pyserial in h:\\můj disk\\projekty\\arduinoproject\\arduinocolab\\.venv\\lib\\site-packages (from arduino_colab_kernel) (3.5)\n",
      "Requirement already satisfied: ipykernel in h:\\můj disk\\projekty\\arduinoproject\\arduinocolab\\.venv\\lib\\site-packages (from arduino_colab_kernel) (6.30.1)\n",
      "Requirement already satisfied: ipython in h:\\můj disk\\projekty\\arduinoproject\\arduinocolab\\.venv\\lib\\site-packages (from arduino_colab_kernel) (9.4.0)\n",
      "Requirement already satisfied: comm>=0.1.1 in h:\\můj disk\\projekty\\arduinoproject\\arduinocolab\\.venv\\lib\\site-packages (from ipykernel->arduino_colab_kernel) (0.2.3)\n",
      "Requirement already satisfied: debugpy>=1.6.5 in h:\\můj disk\\projekty\\arduinoproject\\arduinocolab\\.venv\\lib\\site-packages (from ipykernel->arduino_colab_kernel) (1.8.16)\n",
      "Requirement already satisfied: jupyter-client>=8.0.0 in h:\\můj disk\\projekty\\arduinoproject\\arduinocolab\\.venv\\lib\\site-packages (from ipykernel->arduino_colab_kernel) (8.6.3)\n",
      "Requirement already satisfied: jupyter-core!=5.0.*,>=4.12 in h:\\můj disk\\projekty\\arduinoproject\\arduinocolab\\.venv\\lib\\site-packages (from ipykernel->arduino_colab_kernel) (5.8.1)\n",
      "Requirement already satisfied: matplotlib-inline>=0.1 in h:\\můj disk\\projekty\\arduinoproject\\arduinocolab\\.venv\\lib\\site-packages (from ipykernel->arduino_colab_kernel) (0.1.7)\n",
      "Requirement already satisfied: nest-asyncio>=1.4 in h:\\můj disk\\projekty\\arduinoproject\\arduinocolab\\.venv\\lib\\site-packages (from ipykernel->arduino_colab_kernel) (1.6.0)\n",
      "Requirement already satisfied: packaging>=22 in h:\\můj disk\\projekty\\arduinoproject\\arduinocolab\\.venv\\lib\\site-packages (from ipykernel->arduino_colab_kernel) (25.0)\n",
      "Requirement already satisfied: psutil>=5.7 in h:\\můj disk\\projekty\\arduinoproject\\arduinocolab\\.venv\\lib\\site-packages (from ipykernel->arduino_colab_kernel) (7.0.0)\n",
      "Requirement already satisfied: pyzmq>=25 in h:\\můj disk\\projekty\\arduinoproject\\arduinocolab\\.venv\\lib\\site-packages (from ipykernel->arduino_colab_kernel) (27.0.2)\n",
      "Requirement already satisfied: tornado>=6.2 in h:\\můj disk\\projekty\\arduinoproject\\arduinocolab\\.venv\\lib\\site-packages (from ipykernel->arduino_colab_kernel) (6.5.2)\n",
      "Requirement already satisfied: traitlets>=5.4.0 in h:\\můj disk\\projekty\\arduinoproject\\arduinocolab\\.venv\\lib\\site-packages (from ipykernel->arduino_colab_kernel) (5.14.3)\n",
      "Requirement already satisfied: colorama in h:\\můj disk\\projekty\\arduinoproject\\arduinocolab\\.venv\\lib\\site-packages (from ipython->arduino_colab_kernel) (0.4.6)\n",
      "Requirement already satisfied: decorator in h:\\můj disk\\projekty\\arduinoproject\\arduinocolab\\.venv\\lib\\site-packages (from ipython->arduino_colab_kernel) (5.2.1)\n",
      "Requirement already satisfied: ipython-pygments-lexers in h:\\můj disk\\projekty\\arduinoproject\\arduinocolab\\.venv\\lib\\site-packages (from ipython->arduino_colab_kernel) (1.1.1)\n",
      "Requirement already satisfied: jedi>=0.16 in h:\\můj disk\\projekty\\arduinoproject\\arduinocolab\\.venv\\lib\\site-packages (from ipython->arduino_colab_kernel) (0.19.2)\n",
      "Requirement already satisfied: prompt_toolkit<3.1.0,>=3.0.41 in h:\\můj disk\\projekty\\arduinoproject\\arduinocolab\\.venv\\lib\\site-packages (from ipython->arduino_colab_kernel) (3.0.51)\n",
      "Requirement already satisfied: pygments>=2.4.0 in h:\\můj disk\\projekty\\arduinoproject\\arduinocolab\\.venv\\lib\\site-packages (from ipython->arduino_colab_kernel) (2.19.2)\n",
      "Requirement already satisfied: stack_data in h:\\můj disk\\projekty\\arduinoproject\\arduinocolab\\.venv\\lib\\site-packages (from ipython->arduino_colab_kernel) (0.6.3)\n",
      "Requirement already satisfied: typing_extensions>=4.6 in h:\\můj disk\\projekty\\arduinoproject\\arduinocolab\\.venv\\lib\\site-packages (from ipython->arduino_colab_kernel) (4.14.1)\n",
      "Requirement already satisfied: wcwidth in h:\\můj disk\\projekty\\arduinoproject\\arduinocolab\\.venv\\lib\\site-packages (from prompt_toolkit<3.1.0,>=3.0.41->ipython->arduino_colab_kernel) (0.2.13)\n",
      "Requirement already satisfied: parso<0.9.0,>=0.8.4 in h:\\můj disk\\projekty\\arduinoproject\\arduinocolab\\.venv\\lib\\site-packages (from jedi>=0.16->ipython->arduino_colab_kernel) (0.8.4)\n",
      "Requirement already satisfied: python-dateutil>=2.8.2 in h:\\můj disk\\projekty\\arduinoproject\\arduinocolab\\.venv\\lib\\site-packages (from jupyter-client>=8.0.0->ipykernel->arduino_colab_kernel) (2.9.0.post0)\n",
      "Requirement already satisfied: platformdirs>=2.5 in h:\\můj disk\\projekty\\arduinoproject\\arduinocolab\\.venv\\lib\\site-packages (from jupyter-core!=5.0.*,>=4.12->ipykernel->arduino_colab_kernel) (4.3.8)\n",
      "Requirement already satisfied: pywin32>=300 in h:\\můj disk\\projekty\\arduinoproject\\arduinocolab\\.venv\\lib\\site-packages (from jupyter-core!=5.0.*,>=4.12->ipykernel->arduino_colab_kernel) (311)\n",
      "Requirement already satisfied: six>=1.5 in h:\\můj disk\\projekty\\arduinoproject\\arduinocolab\\.venv\\lib\\site-packages (from python-dateutil>=2.8.2->jupyter-client>=8.0.0->ipykernel->arduino_colab_kernel) (1.17.0)\n",
      "Requirement already satisfied: executing>=1.2.0 in h:\\můj disk\\projekty\\arduinoproject\\arduinocolab\\.venv\\lib\\site-packages (from stack_data->ipython->arduino_colab_kernel) (2.2.0)\n",
      "Requirement already satisfied: asttokens>=2.1.0 in h:\\můj disk\\projekty\\arduinoproject\\arduinocolab\\.venv\\lib\\site-packages (from stack_data->ipython->arduino_colab_kernel) (3.0.0)\n",
      "Requirement already satisfied: pure-eval in h:\\můj disk\\projekty\\arduinoproject\\arduinocolab\\.venv\\lib\\site-packages (from stack_data->ipython->arduino_colab_kernel) (0.2.3)\n"
     ]
    }
   ],
   "source": [
    "!pip install arduino_colab_kernel"
   ]
  },
  {
   "cell_type": "code",
   "execution_count": 1,
   "id": "e42e51d7",
   "metadata": {},
   "outputs": [],
   "source": [
    "import arduino_colab_kernel"
   ]
  },
  {
   "cell_type": "code",
   "execution_count": 1,
   "id": "f91dc7ae",
   "metadata": {},
   "outputs": [],
   "source": [
    "# Load magics for Arduino kernel\n",
    "# This files contains the magic commands for the Arduino kernel in Jupyter.\n",
    "%load_ext arduino_colab_kernel.magic_project\n",
    "%load_ext arduino_colab_kernel.magic_board\n",
    "%load_ext arduino_colab_kernel.magic_code\n",
    "%load_ext arduino_colab_kernel.magic_serial"
   ]
  },
  {
   "cell_type": "code",
   "execution_count": 7,
   "id": "e98f3ad9",
   "metadata": {},
   "outputs": [],
   "source": [
    "%reload_ext arduino_colab_kernel.magic_project\n",
    "%reload_ext arduino_colab_kernel.magic_board\n",
    "%reload_ext arduino_colab_kernel.magic_code\n",
    "%reload_ext arduino_colab_kernel.magic_serial"
   ]
  },
  {
   "cell_type": "code",
   "execution_count": 8,
   "id": "722e6b86",
   "metadata": {},
   "outputs": [
    {
     "data": {
      "text/markdown": [
       "\n",
       "### 📘 Available `%project` commands\n",
       "\n",
       "| Command                        | Parameters                        | Description                                                           |\n",
       "|-------------------------------|-----------------------------------|-----------------------------------------------------------------------|\n",
       "| **`%project init`**           | `[name] [--mode local/remote]`     | Creates a new project with the given name and mode.                   |\n",
       "| **`%project load`**           | `[name] [--mode local/remote] [--remote_url <URL>] [--token <API_TOKEN>]`     | Loads an existing project by name and mode. For mode `remote` please provide token using `--token <YOUR_API_TOKEN_HERE>`. You can also provide remote server url address using `--remote_url <YOUR_REMOTE_SERVER_ADDRESS_HERE>` (*Optional*)|\n",
       "| **`%project clear`**          | `[section] [cell]`*(optional)*    | Clears the content of the selected section or a specific cell.        |\n",
       "| **`%project get`**            | *(no parameters)*                 | Gets information about the current project.                           |\n",
       "| **`%project delete`**         | *(no parameters)*                 | Deletes the entire current project.                                   |\n",
       "| **`%project show`**           | *(no parameters)*                 | Displays a project overview (sections, cells, code).                  |\n",
       "| **`%project export`**         | *(no parameters)*                 | Exports the project to a file and saves it.                           |\n",
       "| **`%project help`** / **`?`** | *(no parameters)*                 | Shows this help.                                                      |\n",
       "    "
      ],
      "text/plain": [
       "<IPython.core.display.Markdown object>"
      ]
     },
     "metadata": {},
     "output_type": "display_data"
    }
   ],
   "source": [
    "%project ?"
   ]
  },
  {
   "cell_type": "code",
   "execution_count": 3,
   "id": "58456d7f",
   "metadata": {},
   "outputs": [
    {
     "data": {
      "text/markdown": [
       "**A project named `sketch` already exists. Choose another name or use `%project load sketch` to load the existing project.**"
      ],
      "text/plain": [
       "<IPython.core.display.Markdown object>"
      ]
     },
     "metadata": {},
     "output_type": "display_data"
    }
   ],
   "source": [
    "# Init project \n",
    "%project init"
   ]
  },
  {
   "cell_type": "code",
   "execution_count": 9,
   "id": "92ddd464",
   "metadata": {},
   "outputs": [
    {
     "data": {
      "text/markdown": [
       "`Project *sketch* loaded in mode: local.`"
      ],
      "text/plain": [
       "<IPython.core.display.Markdown object>"
      ]
     },
     "metadata": {},
     "output_type": "display_data"
    }
   ],
   "source": [
    "%project load "
   ]
  },
  {
   "cell_type": "code",
   "execution_count": 2,
   "id": "b318d20f",
   "metadata": {},
   "outputs": [
    {
     "name": "stdout",
     "output_type": "stream",
     "text": [
      "⚠️ Warning: No remote_url provided, using default 'http://localhost:5000'\n"
     ]
    },
    {
     "data": {
      "text/markdown": [
       "`Project *sketch* loaded in mode: remote.`"
      ],
      "text/plain": [
       "<IPython.core.display.Markdown object>"
      ]
     },
     "metadata": {},
     "output_type": "display_data"
    }
   ],
   "source": [
    "MY_API_TOKEN = input(\"Enter your API token: \")\n",
    "%project load --mode remote --token {MY_API_TOKEN}"
   ]
  },
  {
   "cell_type": "code",
   "execution_count": 7,
   "id": "8e9f2f0c",
   "metadata": {},
   "outputs": [
    {
     "data": {
      "text/markdown": [
       "**A project named `demo` does not exist! Choose another name or use `%project init demo` to create a new project.**"
      ],
      "text/plain": [
       "<IPython.core.display.Markdown object>"
      ]
     },
     "metadata": {},
     "output_type": "display_data"
    }
   ],
   "source": [
    "# Load exist project \n",
    "%project load demo"
   ]
  },
  {
   "cell_type": "code",
   "execution_count": 10,
   "id": "dd8ce7fa",
   "metadata": {},
   "outputs": [
    {
     "data": {
      "text/markdown": [
       "Project: **sketch**\n",
       " ```\n",
       "#include <Arduino.h>\n",
       "\n",
       "//**Global variables**\n",
       "\n",
       "int led = 13; // Pin for the LED\n",
       "int timer = 250; // Delay time in milliseconds\n",
       "\n",
       "\n",
       "//**Functions**\n",
       "\n",
       "// No functions defined\n",
       "\n",
       "\n",
       "//**Setup**\n",
       "\n",
       "void setup() {\n",
       "\tpinMode(led, OUTPUT); // Set the LED pin as output\n",
       "\tSerial.begin(115200);\n",
       "}\n",
       "\n",
       "\n",
       "//**Loop**\n",
       "\n",
       "void loop() {\n",
       "\tdigitalWrite(led, HIGH); delay(timer);\n",
       "digitalWrite(led, LOW);  delay(timer);\n",
       "\tSerial.write(\"Hello!\\n\");\n",
       "\tSerial.write(\"[DEBUG] Here is debug info.\\n\");\n",
       "}\n",
       "\n",
       "\n",
       "```"
      ],
      "text/plain": [
       "<IPython.core.display.Markdown object>"
      ]
     },
     "metadata": {},
     "output_type": "display_data"
    }
   ],
   "source": [
    "# Show project status\n",
    "%project show"
   ]
  },
  {
   "cell_type": "code",
   "execution_count": 4,
   "id": "4fa9be19",
   "metadata": {},
   "outputs": [
    {
     "data": {
      "text/markdown": [
       "\n",
       "### 📘 Available `%project` commands\n",
       "\n",
       "| Command                        | Parameters                        | Description                                                           |\n",
       "|-------------------------------|-----------------------------------|-----------------------------------------------------------------------|\n",
       "| **`%project init`**           | `[name] [--mode local|remote]`     | Creates a new project with the given name and mode.                   |\n",
       "| **`%project load`**           | `[name] [--mode local|remote]`     | Loads an existing project by name and mode.                           |\n",
       "| **`%project clear`**          | `[section] [cell]`*(optional)*    | Clears the content of the selected section or a specific cell.        |\n",
       "| **`%project get`**            | *(no parameters)*                 | Gets information about the current project.                           |\n",
       "| **`%project delete`**         | *(no parameters)*                 | Deletes the entire current project.                                   |\n",
       "| **`%project show`**           | *(no parameters)*                 | Displays a project overview (sections, cells, code).                  |\n",
       "| **`%project export`**         | *(no parameters)*                 | Exports the project to a file and saves it.                           |\n",
       "| **`%project help`** / **`?`** | *(no parameters)*                 | Shows this help.                                                      |\n",
       "    "
      ],
      "text/plain": [
       "<IPython.core.display.Markdown object>"
      ]
     },
     "metadata": {},
     "output_type": "display_data"
    }
   ],
   "source": [
    "# Show project helps \n",
    "%project help"
   ]
  },
  {
   "cell_type": "markdown",
   "id": "a58a031e",
   "metadata": {},
   "source": [
    "### Board"
   ]
  },
  {
   "cell_type": "code",
   "execution_count": 11,
   "id": "23a265e4",
   "metadata": {},
   "outputs": [
    {
     "data": {
      "text/markdown": [
       "\n",
       "### 🔧 Available `%board` commands\n",
       "\n",
       "| Command                          | Parameters                                                     | Description                                                           |\n",
       "|-----------------------------------|---------------------------------------------------------------|-----------------------------------------------------------------------|\n",
       "| **`%board select`**               | `[uno\\|nano]`                                                 | Selects a supported board (if port is not set, tries autodetection).  |\n",
       "| **`%board status`**               | *(no parameters)*                                             | Shows current settings (board, FQBN, serial port).                    |\n",
       "| **`%board serial`**               | `[--port COMx] [--baud 115200] [--timeout 0.1] [--encoding utf-8] [--strip true\\|false]` | Sets serial port and its parameters.                                  |\n",
       "| **`%board compile`**              | `[sketch_dir_or_ino] [--log-file path]`*(optional)*           | Compiles sketch for the currently selected board.                     |\n",
       "| **`%board upload`**               | `[sketch_dir_or_ino] [--log-file path]`*(optional)*           | Uploads sketch to the currently selected board.                       |\n",
       "| **`%board list`**                 | *(no parameters)*                                             | Lists available supported boards.                                     |\n",
       "| **`%board ports`**                | *(no parameters)*                                             | Lists available serial ports.                                         |\n",
       "| **`%board help`** / **`?`**       | *(no parameters)*                                             | Shows this help.                                                      |\n",
       "    "
      ],
      "text/plain": [
       "<IPython.core.display.Markdown object>"
      ]
     },
     "metadata": {},
     "output_type": "display_data"
    }
   ],
   "source": [
    "# Show boards options\n",
    "%board help"
   ]
  },
  {
   "cell_type": "code",
   "execution_count": 6,
   "id": "8803e739",
   "metadata": {},
   "outputs": [
    {
     "data": {
      "text/markdown": [
       "**Available boards:**  \n",
       "- `uno` (FQBN: `arduino:avr:uno`)\n",
       "- `nano` (FQBN: `arduino:avr:nano`)"
      ],
      "text/plain": [
       "<IPython.core.display.Markdown object>"
      ]
     },
     "metadata": {},
     "output_type": "display_data"
    }
   ],
   "source": [
    "%board list"
   ]
  },
  {
   "cell_type": "code",
   "execution_count": 7,
   "id": "4c439a26",
   "metadata": {},
   "outputs": [
    {
     "data": {
      "text/markdown": [
       "**Available serial ports:**  \n",
       "- `COM3`"
      ],
      "text/plain": [
       "<IPython.core.display.Markdown object>"
      ]
     },
     "metadata": {},
     "output_type": "display_data"
    }
   ],
   "source": [
    "%board ports"
   ]
  },
  {
   "cell_type": "code",
   "execution_count": 8,
   "id": "f381d153",
   "metadata": {},
   "outputs": [
    {
     "data": {
      "text/markdown": [
       "✅ Board **uno** set (FQBN `arduino:avr:uno`) &nbsp;|&nbsp; Auto port: `COM3`"
      ],
      "text/plain": [
       "<IPython.core.display.Markdown object>"
      ]
     },
     "metadata": {},
     "output_type": "display_data"
    }
   ],
   "source": [
    "%board select uno"
   ]
  },
  {
   "cell_type": "code",
   "execution_count": 6,
   "id": "f4ba1b54",
   "metadata": {},
   "outputs": [
    {
     "data": {
      "text/markdown": [
       "✅ Nastavena deska **uno** (FQBN `arduino:avr:uno`) &nbsp;|&nbsp; Port: `COM5` (explicitní)"
      ],
      "text/plain": [
       "<IPython.core.display.Markdown object>"
      ]
     },
     "metadata": {},
     "output_type": "display_data"
    }
   ],
   "source": [
    "# Select board\n",
    "%board select uno --port COM5"
   ]
  },
  {
   "cell_type": "code",
   "execution_count": 9,
   "id": "7c3d2271",
   "metadata": {},
   "outputs": [
    {
     "data": {
      "text/markdown": [
       "**Board status**\n",
       "\n",
       "- Board: `uno`\n",
       "- FQBN: `arduino:avr:uno`\n",
       "- Port: `COM3`\n",
       "- Baud: `115200`\n",
       "- Timeout: `0.1`\n",
       "- Encoding: `utf-8`\n",
       "- Auto strip: `True`\n"
      ],
      "text/plain": [
       "<IPython.core.display.Markdown object>"
      ]
     },
     "metadata": {},
     "output_type": "display_data"
    }
   ],
   "source": [
    "%board status"
   ]
  },
  {
   "cell_type": "markdown",
   "id": "4cb8ae21",
   "metadata": {},
   "source": [
    "## Code\n",
    "\n",
    "Lets code here!"
   ]
  },
  {
   "cell_type": "code",
   "execution_count": 10,
   "id": "93bc94ac",
   "metadata": {},
   "outputs": [
    {
     "data": {
      "text/markdown": [
       "Project: **sketch**\n",
       " ```\n",
       "#include <Arduino.h>\n",
       "\n",
       "//**Global variables**\n",
       "\n",
       "int led = 13; // Pin for the LED\n",
       "int timer = 1000; // Delay time in milliseconds\n",
       "\n",
       "\n",
       "//**Functions**\n",
       "\n",
       "// No functions defined\n",
       "\n",
       "\n",
       "//**Setup**\n",
       "\n",
       "void setup() {\n",
       "\tpinMode(led, OUTPUT); // Set the LED pin as output\n",
       "\tSerial.begin(115200);\n",
       "}\n",
       "\n",
       "\n",
       "//**Loop**\n",
       "\n",
       "void loop() {\n",
       "\tdigitalWrite(led, HIGH); delay(timer);\n",
       "digitalWrite(led, LOW);  delay(timer);\n",
       "\tSerial.write(\"Hello!\");\n",
       "}\n",
       "\n",
       "\n",
       "```"
      ],
      "text/plain": [
       "<IPython.core.display.Markdown object>"
      ]
     },
     "metadata": {},
     "output_type": "display_data"
    }
   ],
   "source": [
    "%project show"
   ]
  },
  {
   "cell_type": "code",
   "execution_count": 12,
   "id": "50e5d799",
   "metadata": {},
   "outputs": [
    {
     "name": "stdout",
     "output_type": "stream",
     "text": [
      "📡 **Uploading to uno on port COM3...**\n",
      "⏳ This may take a while, please wait...\n",
      "💻 **Compiling for uno on port COM3...**\n",
      "⏳ This may take a while, please wait...\n",
      "Sketch uses 2010 bytes (6%) of program storage space. Maximum is 32256 bytes.\n",
      "Global variables use 222 bytes (10%) of dynamic memory, leaving 1826 bytes for local variables. Maximum is 2048 bytes.\n",
      "\n",
      "✅ **Compile complete.**\n",
      "New upload port: COM3 (serial)\n",
      "\n",
      "✅ **Upload complete.**\n"
     ]
    },
    {
     "data": {
      "text/markdown": [
       "🚀 **Upload complete.** Log: `h:\\Můj disk\\Projekty\\ArduinoProject\\ArduinoColab\\colab\\tests\\projects\\sketch\\logs\\upload.log`"
      ],
      "text/plain": [
       "<IPython.core.display.Markdown object>"
      ]
     },
     "metadata": {},
     "output_type": "display_data"
    }
   ],
   "source": [
    "%board upload"
   ]
  },
  {
   "cell_type": "code",
   "execution_count": 12,
   "id": "df77a543",
   "metadata": {},
   "outputs": [
    {
     "data": {
      "text/markdown": [
       "`Code memory cleared.`"
      ],
      "text/plain": [
       "<IPython.core.display.Markdown object>"
      ]
     },
     "metadata": {},
     "output_type": "display_data"
    }
   ],
   "source": [
    "# Clear old code if exists\n",
    "%project clear"
   ]
  },
  {
   "cell_type": "code",
   "execution_count": 13,
   "id": "747cafd6",
   "metadata": {},
   "outputs": [
    {
     "data": {
      "text/markdown": [
       "`Code updated` &nbsp;|&nbsp; section: `globals`, cell: `0`."
      ],
      "text/plain": [
       "<IPython.core.display.Markdown object>"
      ]
     },
     "metadata": {},
     "output_type": "display_data"
    }
   ],
   "source": [
    "%%code globals\n",
    "int led = 13; // Pin for the LED\n",
    "int timer = 500; // Delay time in milliseconds"
   ]
  },
  {
   "cell_type": "code",
   "execution_count": 14,
   "id": "19b9bcfe",
   "metadata": {},
   "outputs": [
    {
     "data": {
      "text/markdown": [
       "`Code updated` &nbsp;|&nbsp; section: `setup`, cell: `0`."
      ],
      "text/plain": [
       "<IPython.core.display.Markdown object>"
      ]
     },
     "metadata": {},
     "output_type": "display_data"
    }
   ],
   "source": [
    "%%code setup\n",
    "pinMode(led, OUTPUT); // Set the LED pin as output "
   ]
  },
  {
   "cell_type": "code",
   "execution_count": 12,
   "id": "c464b007",
   "metadata": {},
   "outputs": [
    {
     "data": {
      "text/markdown": [
       "`Code updated` &nbsp;|&nbsp; section: `loop`, cell: `0`."
      ],
      "text/plain": [
       "<IPython.core.display.Markdown object>"
      ]
     },
     "metadata": {},
     "output_type": "display_data"
    }
   ],
   "source": [
    "%%code loop\n",
    "digitalWrite(led, HIGH); delay(timer);\n",
    "digitalWrite(led, LOW);  delay(timer);"
   ]
  },
  {
   "cell_type": "code",
   "execution_count": 15,
   "id": "628d7ca5",
   "metadata": {},
   "outputs": [
    {
     "data": {
      "text/markdown": [
       "```\n",
       " Project exported and saved as:h:\\Můj disk\\Projekty\\ArduinoProject\\ArduinoColab\\colab\\tests\\projects\\sketch\n",
       "```"
      ],
      "text/plain": [
       "<IPython.core.display.Markdown object>"
      ]
     },
     "metadata": {},
     "output_type": "display_data"
    }
   ],
   "source": [
    "%project export"
   ]
  },
  {
   "cell_type": "code",
   "execution_count": 14,
   "id": "7a4b48fc",
   "metadata": {},
   "outputs": [
    {
     "data": {
      "text/markdown": [
       "Project: **sketch**\n",
       " ```\n",
       "#include <Arduino.h>\n",
       "\n",
       "//**Global variables**\n",
       "\n",
       "int led = 13; // Pin for the LED\n",
       "int timer = 500; // Delay time in milliseconds\n",
       "\n",
       "\n",
       "//**Functions**\n",
       "\n",
       "// No functions defined\n",
       "\n",
       "\n",
       "//**Setup**\n",
       "\n",
       "void setup() {\n",
       "\tpinMode(led, OUTPUT); // Set the LED pin as output\n",
       "\tSerial.begin(115200);\n",
       "}\n",
       "\n",
       "\n",
       "//**Loop**\n",
       "\n",
       "void loop() {\n",
       "\tdigitalWrite(led, HIGH); delay(timer);\n",
       "digitalWrite(led, LOW);  delay(timer);\n",
       "\tSerial.write(\"Hello!\\n\");\n",
       "\tSerial.write(\"[DEBUG] Here is debug info.\\n\");\n",
       "}\n",
       "\n",
       "\n",
       "```"
      ],
      "text/plain": [
       "<IPython.core.display.Markdown object>"
      ]
     },
     "metadata": {},
     "output_type": "display_data"
    }
   ],
   "source": [
    "%project show"
   ]
  },
  {
   "cell_type": "code",
   "execution_count": 9,
   "id": "001b767a",
   "metadata": {},
   "outputs": [
    {
     "data": {
      "text/markdown": [
       "**Available serial ports:**  \n",
       "- `COM5`"
      ],
      "text/plain": [
       "<IPython.core.display.Markdown object>"
      ]
     },
     "metadata": {},
     "output_type": "display_data"
    }
   ],
   "source": [
    "%board ports"
   ]
  },
  {
   "cell_type": "code",
   "execution_count": 12,
   "id": "9bff77e2",
   "metadata": {},
   "outputs": [
    {
     "data": {
      "text/markdown": [
       "**Error during upload:** `Failed to run upload command: expected str, bytes or os.PathLike object, not NoneType`"
      ],
      "text/plain": [
       "<IPython.core.display.Markdown object>"
      ]
     },
     "metadata": {},
     "output_type": "display_data"
    }
   ],
   "source": [
    "%board upload"
   ]
  },
  {
   "cell_type": "code",
   "execution_count": 9,
   "id": "edf39d88",
   "metadata": {},
   "outputs": [
    {
     "data": {
      "text/markdown": [
       "`Code updated` &nbsp;|&nbsp; section: `globals`, cell: `0`."
      ],
      "text/plain": [
       "<IPython.core.display.Markdown object>"
      ]
     },
     "metadata": {},
     "output_type": "display_data"
    }
   ],
   "source": [
    "%%code globals\n",
    "int led = 13; // Pin for the LED\n",
    "int timer = 250; // Delay time in milliseconds"
   ]
  },
  {
   "cell_type": "code",
   "execution_count": 17,
   "id": "977c3d6a",
   "metadata": {},
   "outputs": [
    {
     "data": {
      "text/markdown": [
       "**Error:** `sequence item 4: expected str instance, NoneType found`"
      ],
      "text/plain": [
       "<IPython.core.display.Markdown object>"
      ]
     },
     "metadata": {},
     "output_type": "display_data"
    }
   ],
   "source": [
    "%board upload"
   ]
  },
  {
   "cell_type": "code",
   "execution_count": 18,
   "id": "d7e740e1",
   "metadata": {},
   "outputs": [
    {
     "data": {
      "text/markdown": [
       "`Code updated` &nbsp;|&nbsp; section: `loop`, cell: `0`."
      ],
      "text/plain": [
       "<IPython.core.display.Markdown object>"
      ]
     },
     "metadata": {},
     "output_type": "display_data"
    }
   ],
   "source": [
    "%%code loop\n",
    "digitalWrite(led, HIGH); delay(timer);"
   ]
  },
  {
   "cell_type": "code",
   "execution_count": 23,
   "id": "7f2ccb08",
   "metadata": {},
   "outputs": [
    {
     "data": {
      "text/markdown": [
       "Project: **sketch**\n",
       " ```\n",
       "//**Global variables**\n",
       "\n",
       "int led = 13; // Pin for the LED\n",
       "int timer = 1000; // Delay time in milliseconds\n",
       "\n",
       "\n",
       "//**Functions**\n",
       "\n",
       "// No functions defined\n",
       "\n",
       "\n",
       "//**Setup**\n",
       "\n",
       "void setup() {\n",
       "\tpinMode(led, OUTPUT); // Set the LED pin as output\n",
       "}\n",
       "\n",
       "\n",
       "//**Loop**\n",
       "\n",
       "void loop() {\n",
       "\tdigitalWrite(led, HIGH); delay(timer);\n",
       "}\n",
       "\n",
       "\n",
       "```"
      ],
      "text/plain": [
       "<IPython.core.display.Markdown object>"
      ]
     },
     "metadata": {},
     "output_type": "display_data"
    }
   ],
   "source": [
    "%project show"
   ]
  },
  {
   "cell_type": "code",
   "execution_count": 34,
   "id": "234e0333",
   "metadata": {},
   "outputs": [
    {
     "data": {
      "text/markdown": [
       "`Kód aktualizován` &nbsp;|&nbsp; sekce: `loop`, buňka: `0`."
      ],
      "text/plain": [
       "<IPython.core.display.Markdown object>"
      ]
     },
     "metadata": {},
     "output_type": "display_data"
    }
   ],
   "source": [
    "%%code loop\n",
    "digitalWrite(led, LOW); delay(timer);"
   ]
  },
  {
   "cell_type": "code",
   "execution_count": 35,
   "id": "c3712938",
   "metadata": {},
   "outputs": [
    {
     "data": {
      "text/markdown": [
       "Project: **sketch**\n",
       " ```\n",
       "//**Global variables**\n",
       "\n",
       "int led = 13; // Pin for the LED\n",
       "int timer = 1000; // Delay time in milliseconds\n",
       "\n",
       "\n",
       "//**Functions**\n",
       "\n",
       "// No functions defined\n",
       "\n",
       "\n",
       "//**Setup**\n",
       "\n",
       "void setup() {\n",
       "\tpinMode(led, OUTPUT); // Set the LED pin as output\n",
       "\tSerial.begin(115200);\n",
       "}\n",
       "\n",
       "\n",
       "//**Loop**\n",
       "\n",
       "void loop() {\n",
       "\tdigitalWrite(led, LOW); delay(timer);\n",
       "\tSerial.write(\"Hello!\");\n",
       "}\n",
       "\n",
       "\n",
       "```"
      ],
      "text/plain": [
       "<IPython.core.display.Markdown object>"
      ]
     },
     "metadata": {},
     "output_type": "display_data"
    }
   ],
   "source": [
    "%project show"
   ]
  },
  {
   "cell_type": "code",
   "execution_count": 36,
   "id": "3e9fdcfb",
   "metadata": {},
   "outputs": [
    {
     "name": "stdout",
     "output_type": "stream",
     "text": [
      "Kompiluji: G:\\Můj disk\\Projekty\\ArduinoColab\\colab\\arduino_colab_kernel\\tools\\arduino-cli.exe compile g:\\Můj disk\\Projekty\\ArduinoColab\\colab\\arduino_colab_kernel\\demos\\projects\\sketch -p COM5 -b arduino:avr:uno\n",
      "Sketch uses 1906 bytes (5%) of program storage space. Maximum is 32256 bytes.\n",
      "Global variables use 192 bytes (9%) of dynamic memory, leaving 1856 bytes for local variables. Maximum is 2048 bytes.\n",
      "\n",
      "Nahrávám: G:\\Můj disk\\Projekty\\ArduinoColab\\colab\\arduino_colab_kernel\\tools\\arduino-cli.exe upload g:\\Můj disk\\Projekty\\ArduinoColab\\colab\\arduino_colab_kernel\\demos\\projects\\sketch -p COM5 -b arduino:avr:uno\n",
      "New upload port: COM5 (serial)\n",
      "\n"
     ]
    },
    {
     "data": {
      "text/markdown": [
       "🚀 **Nahrávání dokončeno.** Log: `g:\\Můj disk\\Projekty\\ArduinoColab\\colab\\arduino_colab_kernel\\demos\\projects\\sketch\\logs\\upload.log`"
      ],
      "text/plain": [
       "<IPython.core.display.Markdown object>"
      ]
     },
     "metadata": {},
     "output_type": "display_data"
    }
   ],
   "source": [
    "%board upload"
   ]
  },
  {
   "cell_type": "code",
   "execution_count": 9,
   "id": "c21f7c5e",
   "metadata": {},
   "outputs": [
    {
     "data": {
      "text/markdown": [
       "`Kód aktualizován`, sekce: `globals`, buňka: `1`."
      ],
      "text/plain": [
       "<IPython.core.display.Markdown object>"
      ]
     },
     "metadata": {},
     "output_type": "display_data"
    }
   ],
   "source": [
    "%%code globals 1\n",
    "int led = 13; // Pin for the LED\n",
    "int timer = 250; // Delay time in milliseconds"
   ]
  },
  {
   "cell_type": "code",
   "execution_count": 10,
   "id": "bee2295f",
   "metadata": {},
   "outputs": [
    {
     "name": "stdout",
     "output_type": "stream",
     "text": [
      "Kompiluji: g:\\můj disk\\projekty\\arduinocolab\\arduino_colab_kernel\\tools\\arduino-cli.exe compile g:\\Můj disk\\Projekty\\ArduinoColab\\arduino_colab_kernel\\demos\\projects\\demo -p COM5 -b arduino:avr:uno\n",
      "Sketch uses 946 bytes (2%) of program storage space. Maximum is 32256 bytes.\n",
      "Global variables use 9 bytes (0%) of dynamic memory, leaving 2039 bytes for local variables. Maximum is 2048 bytes.\n",
      "\n",
      "Nahrávám: g:\\můj disk\\projekty\\arduinocolab\\arduino_colab_kernel\\tools\\arduino-cli.exe upload g:\\Můj disk\\Projekty\\ArduinoColab\\arduino_colab_kernel\\demos\\projects\\demo -p COM5 -b arduino:avr:uno\n",
      "New upload port: COM5 (serial)\n",
      "\n"
     ]
    },
    {
     "data": {
      "text/markdown": [
       "🚀 **Nahrávání dokončeno.** Log: `g:\\Můj disk\\Projekty\\ArduinoColab\\arduino_colab_kernel\\demos\\projects\\demo\\logs\\upload.log`"
      ],
      "text/plain": [
       "<IPython.core.display.Markdown object>"
      ]
     },
     "metadata": {},
     "output_type": "display_data"
    }
   ],
   "source": [
    "%board upload"
   ]
  },
  {
   "cell_type": "code",
   "execution_count": 11,
   "id": "f2b4b56f",
   "metadata": {},
   "outputs": [
    {
     "data": {
      "text/markdown": [
       "Project: **demo**\n",
       " ```\n",
       "//**Global variables**\n",
       "\n",
       "int led = 13; // Pin for the LED\n",
       "int timer = 250; // Delay time in milliseconds\n",
       "\n",
       "\n",
       "//**Functions**\n",
       "\n",
       "// No functions defined\n",
       "\n",
       "\n",
       "//**Setup**\n",
       "\n",
       "void setup() {\n",
       "\tpinMode(led, OUTPUT); // Set the LED pin as output\n",
       "}\n",
       "\n",
       "\n",
       "//**Loop**\n",
       "\n",
       "void loop() {\n",
       "\tdigitalWrite(led, HIGH); delay(timer);\n",
       "digitalWrite(led, LOW);  delay(timer);\n",
       "}\n",
       "\n",
       "\n",
       "```"
      ],
      "text/plain": [
       "<IPython.core.display.Markdown object>"
      ]
     },
     "metadata": {},
     "output_type": "display_data"
    }
   ],
   "source": [
    "%project show"
   ]
  },
  {
   "cell_type": "code",
   "execution_count": 28,
   "id": "6666d26d",
   "metadata": {},
   "outputs": [
    {
     "data": {
      "text/markdown": [
       "```\n",
       " Project exported and saved as:g:\\Můj disk\\Projekty\\ArduinoColab\\colab\\arduino_colab_kernel\\demos\\projects\\sketch\n",
       "```"
      ],
      "text/plain": [
       "<IPython.core.display.Markdown object>"
      ]
     },
     "metadata": {},
     "output_type": "display_data"
    }
   ],
   "source": [
    "%project export"
   ]
  },
  {
   "cell_type": "code",
   "execution_count": 27,
   "id": "c11825c2",
   "metadata": {},
   "outputs": [
    {
     "data": {
      "text/markdown": [
       "\n",
       "### 📘 Dostupné příkazy `%project`\n",
       "\n",
       "| Příkaz                        | Parametry                        | Popis                                                                 |\n",
       "|-------------------------------|----------------------------------|----------------------------------------------------------------------|\n",
       "| **`%project init`**           | `[název]`                        | Vytvoří nový projekt s daným názvem.                                 |\n",
       "| **`%project load`**           | `[název]`                        | Načte existující projekt podle názvu.                                |\n",
       "| **`%project clear`**          | `[sekce] [buňka]`*(volitelné)*   | Smaže obsah vybrané sekce, případně konkrétní buňky.                 |\n",
       "| **`%project get`**            | *(bez parametrů)*                | Získá informace o aktuálním projektu.                                |\n",
       "| **`%project delete`**         | *(bez parametrů)*                | Smaže celý aktuální projekt.                                         |\n",
       "| **`%project show`**           | *(bez parametrů)*                | Zobrazí přehled projektu (sekce, buňky, kód).                        |\n",
       "| **`%project export`**         | *(bez parametrů)*                | Exportuje projekt do souboru a uloží jej.                            |\n",
       "| **`%project help`** / **`?`** | *(bez parametrů)*                | Zobrazí tuto nápovědu.                                               |\n",
       "    "
      ],
      "text/plain": [
       "<IPython.core.display.Markdown object>"
      ]
     },
     "metadata": {},
     "output_type": "display_data"
    }
   ],
   "source": [
    "%project ?"
   ]
  },
  {
   "cell_type": "code",
   "execution_count": 16,
   "id": "cf8c6217",
   "metadata": {},
   "outputs": [
    {
     "data": {
      "text/markdown": [
       "Projekt: **demo** \t se nachází v: *g:\\Můj disk\\Projekty\\ArduinoColab\\arduino_colab_kernel\\demos\\projects\\demo*"
      ],
      "text/plain": [
       "<IPython.core.display.Markdown object>"
      ]
     },
     "metadata": {},
     "output_type": "display_data"
    }
   ],
   "source": [
    "%project get"
   ]
  },
  {
   "cell_type": "code",
   "execution_count": 10,
   "id": "d60295ff",
   "metadata": {},
   "outputs": [
    {
     "data": {
      "text/markdown": [
       "`Code updated` &nbsp;|&nbsp; section: `setup`, cell: `1`."
      ],
      "text/plain": [
       "<IPython.core.display.Markdown object>"
      ]
     },
     "metadata": {},
     "output_type": "display_data"
    }
   ],
   "source": [
    "%%code setup 1\n",
    "Serial.begin(115200);"
   ]
  },
  {
   "cell_type": "code",
   "execution_count": 11,
   "id": "49f97468",
   "metadata": {},
   "outputs": [
    {
     "data": {
      "text/markdown": [
       "`Code updated` &nbsp;|&nbsp; section: `loop`, cell: `1`."
      ],
      "text/plain": [
       "<IPython.core.display.Markdown object>"
      ]
     },
     "metadata": {},
     "output_type": "display_data"
    }
   ],
   "source": [
    "%%code loop 1\n",
    "Serial.write(\"Hello!\\n\");"
   ]
  },
  {
   "cell_type": "code",
   "execution_count": 12,
   "id": "ce26d238",
   "metadata": {},
   "outputs": [
    {
     "data": {
      "text/markdown": [
       "`Code updated` &nbsp;|&nbsp; section: `loop`, cell: `2`."
      ],
      "text/plain": [
       "<IPython.core.display.Markdown object>"
      ]
     },
     "metadata": {},
     "output_type": "display_data"
    }
   ],
   "source": [
    "%%code loop 2\n",
    "Serial.write(\"[DEBUG] Here is debug info.\\n\");"
   ]
  },
  {
   "cell_type": "code",
   "execution_count": 13,
   "id": "e8c978d8",
   "metadata": {},
   "outputs": [
    {
     "data": {
      "text/markdown": [
       "Project: **sketch**\n",
       " ```\n",
       "#include <Arduino.h>\n",
       "\n",
       "//**Global variables**\n",
       "\n",
       "int led = 13; // Pin for the LED\n",
       "int timer = 250; // Delay time in milliseconds\n",
       "\n",
       "\n",
       "//**Functions**\n",
       "\n",
       "// No functions defined\n",
       "\n",
       "\n",
       "//**Setup**\n",
       "\n",
       "void setup() {\n",
       "\tpinMode(led, OUTPUT); // Set the LED pin as output\n",
       "\tSerial.begin(115200);\n",
       "}\n",
       "\n",
       "\n",
       "//**Loop**\n",
       "\n",
       "void loop() {\n",
       "\tdigitalWrite(led, HIGH); delay(timer);\n",
       "digitalWrite(led, LOW);  delay(timer);\n",
       "\tSerial.write(\"Hello!\\n\");\n",
       "\tSerial.write(\"[DEBUG] Here is debug info.\\n\");\n",
       "}\n",
       "\n",
       "\n",
       "```"
      ],
      "text/plain": [
       "<IPython.core.display.Markdown object>"
      ]
     },
     "metadata": {},
     "output_type": "display_data"
    }
   ],
   "source": [
    "%project show"
   ]
  },
  {
   "cell_type": "code",
   "execution_count": 13,
   "id": "c612949b",
   "metadata": {},
   "outputs": [
    {
     "data": {
      "text/markdown": [
       "`Paměť kodu vymazána.`"
      ],
      "text/plain": [
       "<IPython.core.display.Markdown object>"
      ]
     },
     "metadata": {},
     "output_type": "display_data"
    }
   ],
   "source": [
    "%project clear loop"
   ]
  },
  {
   "cell_type": "code",
   "execution_count": 14,
   "id": "a07d7455",
   "metadata": {},
   "outputs": [
    {
     "data": {
      "text/markdown": [
       "Project: **sketch**\n",
       " ```\n",
       "//**Global variables**\n",
       "\n",
       "// No globals variables defined\n",
       "\n",
       "\n",
       "//**Functions**\n",
       "\n",
       "// No functions defined\n",
       "\n",
       "\n",
       "//**Setup**\n",
       "\n",
       "void setup() {\n",
       "\t//Setup code goes here\n",
       "}\n",
       "\n",
       "\n",
       "//**Loop**\n",
       "\n",
       "void loop() {\n",
       "\t//Loop code goes here\n",
       "}\n",
       "\n",
       "\n",
       "```"
      ],
      "text/plain": [
       "<IPython.core.display.Markdown object>"
      ]
     },
     "metadata": {},
     "output_type": "display_data"
    }
   ],
   "source": [
    "%project show"
   ]
  },
  {
   "cell_type": "markdown",
   "id": "a50517cb",
   "metadata": {},
   "source": [
    "### Upload"
   ]
  },
  {
   "cell_type": "code",
   "execution_count": 14,
   "id": "f3fa093f",
   "metadata": {},
   "outputs": [
    {
     "name": "stdout",
     "output_type": "stream",
     "text": [
      "📡 **Uploading to uno on port COM3...**\n",
      "⏳ This may take a while, please wait...\n",
      "💻 **Compiling for uno on port COM3...**\n",
      "⏳ This may take a while, please wait...\n",
      "Sketch uses 2010 bytes (6%) of program storage space. Maximum is 32256 bytes.\n",
      "Global variables use 222 bytes (10%) of dynamic memory, leaving 1826 bytes for local variables. Maximum is 2048 bytes.\n",
      "\n",
      "✅ **Compile complete.**\n",
      "New upload port: COM3 (serial)\n",
      "\n",
      "✅ **Upload complete.**\n"
     ]
    },
    {
     "data": {
      "text/markdown": [
       "🚀 **Upload complete.** Log: `h:\\Můj disk\\Projekty\\ArduinoProject\\ArduinoColab\\colab\\tests\\projects\\sketch\\logs\\upload.log`"
      ],
      "text/plain": [
       "<IPython.core.display.Markdown object>"
      ]
     },
     "metadata": {},
     "output_type": "display_data"
    }
   ],
   "source": [
    "%board upload"
   ]
  },
  {
   "cell_type": "markdown",
   "id": "c147461b",
   "metadata": {},
   "source": [
    "### Serial port"
   ]
  },
  {
   "cell_type": "code",
   "execution_count": 9,
   "id": "e01c7589",
   "metadata": {},
   "outputs": [
    {
     "data": {
      "text/markdown": [
       "**Usage:** `%%serial [listen|read|write|help] [options]`\n",
       "\n",
       "**Commands:**\n",
       "- `listen` – reads serial output continuously for `--duration` or until interrupted (Ctrl+C)\n",
       "- `read` – reads the specified number of lines (`--lines`)\n",
       "- `write` – writes data to the serial port (`--data` or cell content)\n",
       "- `help` – shows this help\n",
       "\n",
       "**Common requirements:**\n",
       "- Board must be set (`%board set`) and serial port (`%board serial` or autodetect)\n",
       "\n",
       "**Options for `listen`:**\n",
       "- `--duration <seconds>` – listening duration; if not set, runs until Ctrl+C\n",
       "- `--prefix <text>` – filters lines starting with the given prefix\n",
       "\n",
       "**Options for `read`:**\n",
       "- `--lines <count>` – number of lines to read (default 1)\n",
       "\n",
       "**Options for `write`:**\n",
       "- `--data <text>` – text to send; if not set, uses cell content\n",
       "- `--no-nl` – do not send newline (`\\n`) at the end of the message\n"
      ],
      "text/plain": [
       "<IPython.core.display.Markdown object>"
      ]
     },
     "metadata": {},
     "output_type": "display_data"
    }
   ],
   "source": [
    "%serial help"
   ]
  },
  {
   "cell_type": "code",
   "execution_count": 15,
   "id": "d7901522",
   "metadata": {},
   "outputs": [
    {
     "data": {
      "text/markdown": [
       "📡 **Listening**, duration: unlimited"
      ],
      "text/plain": [
       "<IPython.core.display.Markdown object>"
      ]
     },
     "metadata": {},
     "output_type": "display_data"
    },
    {
     "name": "stdout",
     "output_type": "stream",
     "text": [
      "Hello!\n",
      "[DEBUG] Here is debug info.\n",
      "Hello!\n",
      "[DEBUG] Here is debug info.\n",
      "Hello!\n",
      "[DEBUG] Here is debug info.\n",
      "Hello!\n",
      "[DEBUG] Here is debug info.\n",
      "Hello!\n",
      "[DEBUG] Here is debug info.\n",
      "Hello!\n",
      "[DEBUG] Here is debug info.\n",
      "Hello!\n",
      "[DEBUG] Here is debug info.\n",
      "Hello!\n",
      "[DEBUG] Here is debug info.\n"
     ]
    },
    {
     "data": {
      "text/markdown": [
       "✅ **Listening ended.**"
      ],
      "text/plain": [
       "<IPython.core.display.Markdown object>"
      ]
     },
     "metadata": {},
     "output_type": "display_data"
    }
   ],
   "source": [
    "%serial listen"
   ]
  },
  {
   "cell_type": "code",
   "execution_count": 16,
   "id": "1da85fc8",
   "metadata": {},
   "outputs": [
    {
     "data": {
      "text/markdown": [
       "📡 **Listening**, duration: 5.0s, filter prefix: `[DEBUG]`"
      ],
      "text/plain": [
       "<IPython.core.display.Markdown object>"
      ]
     },
     "metadata": {},
     "output_type": "display_data"
    },
    {
     "name": "stdout",
     "output_type": "stream",
     "text": [
      "[DEBUG] Here is debug info.\n",
      "[DEBUG] Here is debug info.\n",
      "[DEBUG] Here is debug info.\n",
      "[DEBUG] Here is debug info.\n",
      "[DEBUG] Here is debug info.\n",
      "[DEBUG] Here is debug info.\n"
     ]
    },
    {
     "data": {
      "text/markdown": [
       "✅ **Listening ended.**"
      ],
      "text/plain": [
       "<IPython.core.display.Markdown object>"
      ]
     },
     "metadata": {},
     "output_type": "display_data"
    }
   ],
   "source": [
    "%serial listen --duration 5 --prefix \"[DEBUG]\""
   ]
  },
  {
   "cell_type": "code",
   "execution_count": 15,
   "id": "b5556df5",
   "metadata": {},
   "outputs": [
    {
     "data": {
      "text/markdown": [
       "✉️ **Sent:** `Hello from Arduino Colab Kernel!`"
      ],
      "text/plain": [
       "<IPython.core.display.Markdown object>"
      ]
     },
     "metadata": {},
     "output_type": "display_data"
    }
   ],
   "source": [
    "%serial write --data \"Hello from Arduino Colab Kernel!\""
   ]
  },
  {
   "cell_type": "code",
   "execution_count": 18,
   "id": "4193cdfc",
   "metadata": {},
   "outputs": [
    {
     "name": "stdout",
     "output_type": "stream",
     "text": [
      "Hello!\n"
     ]
    }
   ],
   "source": [
    "%serial read"
   ]
  },
  {
   "cell_type": "code",
   "execution_count": 19,
   "id": "cbbccc5a",
   "metadata": {},
   "outputs": [
    {
     "name": "stdout",
     "output_type": "stream",
     "text": [
      "Hello!\n",
      "[DEBUG] Here is debug info.\n",
      "Hello!\n",
      "[DEBUG] Here is debug info.\n",
      "Hello!\n"
     ]
    }
   ],
   "source": [
    "%serial read --lines 5"
   ]
  }
 ],
 "metadata": {
  "kernelspec": {
   "display_name": ".venv",
   "language": "python",
   "name": "python3"
  },
  "language_info": {
   "codemirror_mode": {
    "name": "ipython",
    "version": 3
   },
   "file_extension": ".py",
   "mimetype": "text/x-python",
   "name": "python",
   "nbconvert_exporter": "python",
   "pygments_lexer": "ipython3",
   "version": "3.11.0"
  }
 },
 "nbformat": 4,
 "nbformat_minor": 5
}
