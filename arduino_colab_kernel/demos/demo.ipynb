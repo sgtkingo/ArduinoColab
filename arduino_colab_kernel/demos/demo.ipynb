{
 "cells": [
  {
   "cell_type": "markdown",
   "id": "e5275772",
   "metadata": {},
   "source": [
    "# DEMO: Jupyter Notebook Oriented Programing Environment for Arduiono-like Devices (*NOPEAD*) "
   ]
  },
  {
   "cell_type": "markdown",
   "id": "249e8e96",
   "metadata": {},
   "source": [
    "## Preparation"
   ]
  },
  {
   "cell_type": "markdown",
   "id": "df8757fd",
   "metadata": {},
   "source": [
    "### Project"
   ]
  },
  {
   "cell_type": "code",
   "execution_count": 1,
   "id": "f91dc7ae",
   "metadata": {},
   "outputs": [],
   "source": [
    "# Load magics for Arduino kernel\n",
    "# This files contains the magic commands for the Arduino kernel in Jupyter.\n",
    "%load_ext arduino_colab_kernel.magic_project\n",
    "%load_ext arduino_colab_kernel.magic_board\n",
    "%load_ext arduino_colab_kernel.magic_code\n",
    "%load_ext arduino_colab_kernel.magic_serial"
   ]
  },
  {
   "cell_type": "code",
   "execution_count": 2,
   "id": "58456d7f",
   "metadata": {},
   "outputs": [
    {
     "data": {
      "text/markdown": [
       "**Projekt s názvem `demo` již existuje. Zvolte jiný název nebo použijte `%project load demo` pro načtení existujícího projektu.**"
      ],
      "text/plain": [
       "<IPython.core.display.Markdown object>"
      ]
     },
     "metadata": {},
     "output_type": "display_data"
    }
   ],
   "source": [
    "# Init project \n",
    "%project init demo"
   ]
  },
  {
   "cell_type": "code",
   "execution_count": 3,
   "id": "8e9f2f0c",
   "metadata": {},
   "outputs": [
    {
     "data": {
      "text/markdown": [
       "`Načten projekt *demo*.`"
      ],
      "text/plain": [
       "<IPython.core.display.Markdown object>"
      ]
     },
     "metadata": {},
     "output_type": "display_data"
    }
   ],
   "source": [
    "# Load exist project \n",
    "%project load demo"
   ]
  },
  {
   "cell_type": "code",
   "execution_count": 4,
   "id": "dd8ce7fa",
   "metadata": {},
   "outputs": [
    {
     "data": {
      "text/markdown": [
       "Project: **demo**\n",
       " ```\n",
       "//**Global variables**\n",
       "\n",
       "int led = 13; // Pin for the LED\n",
       "int timer = 1000; // Delay time in milliseconds\n",
       "\n",
       "\n",
       "//**Functions**\n",
       "\n",
       "// No functions defined\n",
       "\n",
       "\n",
       "//**Setup**\n",
       "\n",
       "void setup() {\n",
       "\tpinMode(led, OUTPUT); // Set the LED pin as output\n",
       "}\n",
       "\n",
       "\n",
       "//**Loop**\n",
       "\n",
       "void loop() {\n",
       "\tdigitalWrite(led, HIGH); delay(timer);\n",
       "digitalWrite(led, LOW);  delay(timer);\n",
       "}\n",
       "\n",
       "\n",
       "```"
      ],
      "text/plain": [
       "<IPython.core.display.Markdown object>"
      ]
     },
     "metadata": {},
     "output_type": "display_data"
    }
   ],
   "source": [
    "# Show project status\n",
    "%project show"
   ]
  },
  {
   "cell_type": "code",
   "execution_count": 12,
   "id": "4fa9be19",
   "metadata": {},
   "outputs": [
    {
     "data": {
      "text/markdown": [
       "**Použití: `%project init` `<název>` nebo `%project load` `<název>`, `get`, `clear`, `delete`, `show`, `export`**"
      ],
      "text/plain": [
       "<IPython.core.display.Markdown object>"
      ]
     },
     "metadata": {},
     "output_type": "display_data"
    }
   ],
   "source": [
    "# Show project helps \n",
    "%project help"
   ]
  },
  {
   "cell_type": "markdown",
   "id": "a58a031e",
   "metadata": {},
   "source": [
    "### Board"
   ]
  },
  {
   "cell_type": "code",
   "execution_count": 6,
   "id": "23a265e4",
   "metadata": {},
   "outputs": [
    {
     "data": {
      "text/markdown": [
       "**%board – příkazy**\n",
       "\n",
       "- `%board select [uno|nano]` – vybere podporovanou desku (pokud není nastaven port, zkusí se autodetekce)\n",
       "- `%board status` – vypíše aktuální nastavení (deska, FQBN, sériový port)\n",
       "- `%board serial [--port COMx] [--baud 115200] [--timeout 0.1] [--encoding utf-8] [--strip true|false]` – nastaví sériový port\n",
       "- `%board compile [sketch_dir_or_ino] [--log-file path]` – přeloží sketch\n",
       "- `%board upload  [sketch_dir_or_ino] [--log-file path]` – nahraje sketch\n",
       "- `%board list` - vypíše dostupné podporované desky\n",
       "- `%board ports` – vypíše dostupné sériové porty\n",
       "- `%board help|?` – nápověda\n"
      ],
      "text/plain": [
       "<IPython.core.display.Markdown object>"
      ]
     },
     "metadata": {},
     "output_type": "display_data"
    }
   ],
   "source": [
    "# Show boards options\n",
    "%board help"
   ]
  },
  {
   "cell_type": "code",
   "execution_count": 7,
   "id": "8803e739",
   "metadata": {},
   "outputs": [
    {
     "data": {
      "text/markdown": [
       "**Dostupné desky:**  \n",
       "- `uno` (FQBN: `arduino:avr:uno`)\n",
       "- `nano` (FQBN: `arduino:avr:nano`)"
      ],
      "text/plain": [
       "<IPython.core.display.Markdown object>"
      ]
     },
     "metadata": {},
     "output_type": "display_data"
    }
   ],
   "source": [
    "%board list"
   ]
  },
  {
   "cell_type": "code",
   "execution_count": 6,
   "id": "4c439a26",
   "metadata": {},
   "outputs": [
    {
     "data": {
      "text/markdown": [
       "**Dostupné sériové porty:**  \n",
       "- `COM5`"
      ],
      "text/plain": [
       "<IPython.core.display.Markdown object>"
      ]
     },
     "metadata": {},
     "output_type": "display_data"
    }
   ],
   "source": [
    "%board ports"
   ]
  },
  {
   "cell_type": "code",
   "execution_count": 7,
   "id": "f381d153",
   "metadata": {},
   "outputs": [
    {
     "data": {
      "text/markdown": [
       "✅ Nastavena deska **uno** (FQBN `arduino:avr:uno`) &nbsp;|&nbsp; Auto port: `COM5`"
      ],
      "text/plain": [
       "<IPython.core.display.Markdown object>"
      ]
     },
     "metadata": {},
     "output_type": "display_data"
    }
   ],
   "source": [
    "%board select uno"
   ]
  },
  {
   "cell_type": "code",
   "execution_count": 6,
   "id": "f4ba1b54",
   "metadata": {},
   "outputs": [
    {
     "data": {
      "text/markdown": [
       "✅ Nastavena deska **uno** (FQBN `arduino:avr:uno`) &nbsp;|&nbsp; Port: `COM5` (explicitní)"
      ],
      "text/plain": [
       "<IPython.core.display.Markdown object>"
      ]
     },
     "metadata": {},
     "output_type": "display_data"
    }
   ],
   "source": [
    "# Select board\n",
    "%board select uno --port COM5"
   ]
  },
  {
   "cell_type": "code",
   "execution_count": 7,
   "id": "7c3d2271",
   "metadata": {},
   "outputs": [
    {
     "data": {
      "text/markdown": [
       "**Board status**\n",
       "\n",
       "- Deska: `uno`\n",
       "- FQBN: `arduino:avr:uno`\n",
       "- Port: `COM5`\n",
       "- Baud: `115200`\n",
       "- Timeout: `0.1`\n",
       "- Encoding: `utf-8`\n",
       "- Auto strip: `True`\n"
      ],
      "text/plain": [
       "<IPython.core.display.Markdown object>"
      ]
     },
     "metadata": {},
     "output_type": "display_data"
    }
   ],
   "source": [
    "%board status"
   ]
  },
  {
   "cell_type": "markdown",
   "id": "4cb8ae21",
   "metadata": {},
   "source": [
    "## Code\n",
    "\n",
    "Lets code here!"
   ]
  },
  {
   "cell_type": "code",
   "execution_count": 10,
   "id": "df77a543",
   "metadata": {},
   "outputs": [
    {
     "data": {
      "text/markdown": [
       "`Paměť kodu vymazána.`"
      ],
      "text/plain": [
       "<IPython.core.display.Markdown object>"
      ]
     },
     "metadata": {},
     "output_type": "display_data"
    }
   ],
   "source": [
    "# Clear old code if exists\n",
    "%project clear"
   ]
  },
  {
   "cell_type": "code",
   "execution_count": 11,
   "id": "747cafd6",
   "metadata": {},
   "outputs": [
    {
     "data": {
      "text/markdown": [
       "`Kód aktualizován`, sekce: `globals`, buňka: `1`."
      ],
      "text/plain": [
       "<IPython.core.display.Markdown object>"
      ]
     },
     "metadata": {},
     "output_type": "display_data"
    }
   ],
   "source": [
    "%%code globals 1\n",
    "int led = 13; // Pin for the LED\n",
    "int timer = 1000; // Delay time in milliseconds"
   ]
  },
  {
   "cell_type": "code",
   "execution_count": 18,
   "id": "19b9bcfe",
   "metadata": {},
   "outputs": [
    {
     "data": {
      "text/markdown": [
       "`Kód aktualizován`, sekce: `setup`, buňka: `0`."
      ],
      "text/plain": [
       "<IPython.core.display.Markdown object>"
      ]
     },
     "metadata": {},
     "output_type": "display_data"
    }
   ],
   "source": [
    "%%code setup\n",
    "pinMode(led, OUTPUT); // Set the LED pin as output "
   ]
  },
  {
   "cell_type": "code",
   "execution_count": 13,
   "id": "c464b007",
   "metadata": {},
   "outputs": [
    {
     "data": {
      "text/markdown": [
       "`Kód aktualizován`, sekce: `loop`, buňka: `0`."
      ],
      "text/plain": [
       "<IPython.core.display.Markdown object>"
      ]
     },
     "metadata": {},
     "output_type": "display_data"
    }
   ],
   "source": [
    "%%code loop\n",
    "digitalWrite(led, HIGH); delay(timer);\n",
    "digitalWrite(led, LOW);  delay(timer);"
   ]
  },
  {
   "cell_type": "code",
   "execution_count": 14,
   "id": "7a4b48fc",
   "metadata": {},
   "outputs": [
    {
     "data": {
      "text/markdown": [
       "Project: **demo**\n",
       " ```\n",
       "//**Global variables**\n",
       "\n",
       "int led = 13; // Pin for the LED\n",
       "int timer = 1000; // Delay time in milliseconds\n",
       "\n",
       "\n",
       "//**Functions**\n",
       "\n",
       "// No functions defined\n",
       "\n",
       "\n",
       "//**Setup**\n",
       "\n",
       "void setup() {\n",
       "\tpinMode(led, OUTPUT); // Set the LED pin as output\n",
       "}\n",
       "\n",
       "\n",
       "//**Loop**\n",
       "\n",
       "void loop() {\n",
       "\tdigitalWrite(led, HIGH); delay(timer);\n",
       "digitalWrite(led, LOW);  delay(timer);\n",
       "}\n",
       "\n",
       "\n",
       "```"
      ],
      "text/plain": [
       "<IPython.core.display.Markdown object>"
      ]
     },
     "metadata": {},
     "output_type": "display_data"
    }
   ],
   "source": [
    "%project show"
   ]
  },
  {
   "cell_type": "code",
   "execution_count": 9,
   "id": "c21f7c5e",
   "metadata": {},
   "outputs": [
    {
     "data": {
      "text/markdown": [
       "`Kód aktualizován`, sekce: `globals`, buňka: `1`."
      ],
      "text/plain": [
       "<IPython.core.display.Markdown object>"
      ]
     },
     "metadata": {},
     "output_type": "display_data"
    }
   ],
   "source": [
    "%%code globals 1\n",
    "int led = 13; // Pin for the LED\n",
    "int timer = 250; // Delay time in milliseconds"
   ]
  },
  {
   "cell_type": "code",
   "execution_count": 10,
   "id": "bee2295f",
   "metadata": {},
   "outputs": [
    {
     "name": "stdout",
     "output_type": "stream",
     "text": [
      "Kompiluji: g:\\můj disk\\projekty\\arduinocolab\\arduino_colab_kernel\\tools\\arduino-cli.exe compile g:\\Můj disk\\Projekty\\ArduinoColab\\arduino_colab_kernel\\demos\\projects\\demo -p COM5 -b arduino:avr:uno\n",
      "Sketch uses 946 bytes (2%) of program storage space. Maximum is 32256 bytes.\n",
      "Global variables use 9 bytes (0%) of dynamic memory, leaving 2039 bytes for local variables. Maximum is 2048 bytes.\n",
      "\n",
      "Nahrávám: g:\\můj disk\\projekty\\arduinocolab\\arduino_colab_kernel\\tools\\arduino-cli.exe upload g:\\Můj disk\\Projekty\\ArduinoColab\\arduino_colab_kernel\\demos\\projects\\demo -p COM5 -b arduino:avr:uno\n",
      "New upload port: COM5 (serial)\n",
      "\n"
     ]
    },
    {
     "data": {
      "text/markdown": [
       "🚀 **Nahrávání dokončeno.** Log: `g:\\Můj disk\\Projekty\\ArduinoColab\\arduino_colab_kernel\\demos\\projects\\demo\\logs\\upload.log`"
      ],
      "text/plain": [
       "<IPython.core.display.Markdown object>"
      ]
     },
     "metadata": {},
     "output_type": "display_data"
    }
   ],
   "source": [
    "%board upload"
   ]
  },
  {
   "cell_type": "code",
   "execution_count": 11,
   "id": "f2b4b56f",
   "metadata": {},
   "outputs": [
    {
     "data": {
      "text/markdown": [
       "Project: **demo**\n",
       " ```\n",
       "//**Global variables**\n",
       "\n",
       "int led = 13; // Pin for the LED\n",
       "int timer = 250; // Delay time in milliseconds\n",
       "\n",
       "\n",
       "//**Functions**\n",
       "\n",
       "// No functions defined\n",
       "\n",
       "\n",
       "//**Setup**\n",
       "\n",
       "void setup() {\n",
       "\tpinMode(led, OUTPUT); // Set the LED pin as output\n",
       "}\n",
       "\n",
       "\n",
       "//**Loop**\n",
       "\n",
       "void loop() {\n",
       "\tdigitalWrite(led, HIGH); delay(timer);\n",
       "digitalWrite(led, LOW);  delay(timer);\n",
       "}\n",
       "\n",
       "\n",
       "```"
      ],
      "text/plain": [
       "<IPython.core.display.Markdown object>"
      ]
     },
     "metadata": {},
     "output_type": "display_data"
    }
   ],
   "source": [
    "%project show"
   ]
  },
  {
   "cell_type": "code",
   "execution_count": 14,
   "id": "6666d26d",
   "metadata": {},
   "outputs": [
    {
     "data": {
      "text/markdown": [
       "```\n",
       " Project exported and saved as:g:\\Můj disk\\Projekty\\ArduinoColab\\arduino_colab_kernel\\demos\\projects\\demo\n",
       "```"
      ],
      "text/plain": [
       "<IPython.core.display.Markdown object>"
      ]
     },
     "metadata": {},
     "output_type": "display_data"
    }
   ],
   "source": [
    "%project export"
   ]
  },
  {
   "cell_type": "code",
   "execution_count": 15,
   "id": "c11825c2",
   "metadata": {},
   "outputs": [
    {
     "data": {
      "text/markdown": [
       "**Použití: `%project init` `<název>` nebo `%project load` `<název>`, `get`, `clear`, `delete`, `show`, `export`**"
      ],
      "text/plain": [
       "<IPython.core.display.Markdown object>"
      ]
     },
     "metadata": {},
     "output_type": "display_data"
    }
   ],
   "source": [
    "%project ?"
   ]
  },
  {
   "cell_type": "code",
   "execution_count": 16,
   "id": "cf8c6217",
   "metadata": {},
   "outputs": [
    {
     "data": {
      "text/markdown": [
       "Projekt: **demo** \t se nachází v: *g:\\Můj disk\\Projekty\\ArduinoColab\\arduino_colab_kernel\\demos\\projects\\demo*"
      ],
      "text/plain": [
       "<IPython.core.display.Markdown object>"
      ]
     },
     "metadata": {},
     "output_type": "display_data"
    }
   ],
   "source": [
    "%project get"
   ]
  },
  {
   "cell_type": "code",
   "execution_count": 24,
   "id": "d60295ff",
   "metadata": {},
   "outputs": [
    {
     "data": {
      "text/markdown": [
       "`Kód aktualizován`, sekce: `setup`, buňka: `1`."
      ],
      "text/plain": [
       "<IPython.core.display.Markdown object>"
      ]
     },
     "metadata": {},
     "output_type": "display_data"
    }
   ],
   "source": [
    "%%code setup 1\n",
    "Serial.begin(115200);"
   ]
  },
  {
   "cell_type": "code",
   "execution_count": 25,
   "id": "49f97468",
   "metadata": {},
   "outputs": [
    {
     "data": {
      "text/markdown": [
       "`Kód aktualizován`, sekce: `loop`, buňka: `1`."
      ],
      "text/plain": [
       "<IPython.core.display.Markdown object>"
      ]
     },
     "metadata": {},
     "output_type": "display_data"
    }
   ],
   "source": [
    "%%code loop 1\n",
    "Serial.write(\"Hello!\");"
   ]
  },
  {
   "cell_type": "code",
   "execution_count": 26,
   "id": "a07d7455",
   "metadata": {},
   "outputs": [
    {
     "data": {
      "text/markdown": [
       "Project: **demo**\n",
       " ```\n",
       "//**Global variables**\n",
       "\n",
       "int led = 13; // Pin for the LED\n",
       "int timer = 250; // Delay time in milliseconds\n",
       "\n",
       "\n",
       "//**Functions**\n",
       "\n",
       "// No functions defined\n",
       "\n",
       "\n",
       "//**Setup**\n",
       "\n",
       "void setup() {\n",
       "\tpinMode(led, OUTPUT); // Set the LED pin as output\n",
       "\tSerial.begin(115200);\n",
       "}\n",
       "\n",
       "\n",
       "//**Loop**\n",
       "\n",
       "void loop() {\n",
       "\tdigitalWrite(led, HIGH); delay(timer);\n",
       "digitalWrite(led, LOW);  delay(timer);\n",
       "\tSerial.write(\"Hello!\");\n",
       "}\n",
       "\n",
       "\n",
       "```"
      ],
      "text/plain": [
       "<IPython.core.display.Markdown object>"
      ]
     },
     "metadata": {},
     "output_type": "display_data"
    }
   ],
   "source": [
    "%project show"
   ]
  },
  {
   "cell_type": "markdown",
   "id": "a50517cb",
   "metadata": {},
   "source": [
    "### Upload"
   ]
  },
  {
   "cell_type": "code",
   "execution_count": 27,
   "id": "f3fa093f",
   "metadata": {},
   "outputs": [
    {
     "name": "stdout",
     "output_type": "stream",
     "text": [
      "Kompiluji: g:\\můj disk\\projekty\\arduinocolab\\arduino_colab_kernel\\tools\\arduino-cli.exe compile g:\\Můj disk\\Projekty\\ArduinoColab\\arduino_colab_kernel\\demos\\projects\\demo -p COM5 -b arduino:avr:uno\n",
      "Sketch uses 1964 bytes (6%) of program storage space. Maximum is 32256 bytes.\n",
      "Global variables use 192 bytes (9%) of dynamic memory, leaving 1856 bytes for local variables. Maximum is 2048 bytes.\n",
      "\n",
      "Nahrávám: g:\\můj disk\\projekty\\arduinocolab\\arduino_colab_kernel\\tools\\arduino-cli.exe upload g:\\Můj disk\\Projekty\\ArduinoColab\\arduino_colab_kernel\\demos\\projects\\demo -p COM5 -b arduino:avr:uno\n",
      "New upload port: COM5 (serial)\n",
      "\n"
     ]
    },
    {
     "data": {
      "text/markdown": [
       "🚀 **Nahrávání dokončeno.** Log: `g:\\Můj disk\\Projekty\\ArduinoColab\\arduino_colab_kernel\\demos\\projects\\demo\\logs\\upload.log`"
      ],
      "text/plain": [
       "<IPython.core.display.Markdown object>"
      ]
     },
     "metadata": {},
     "output_type": "display_data"
    }
   ],
   "source": [
    "%board upload"
   ]
  },
  {
   "cell_type": "markdown",
   "id": "c147461b",
   "metadata": {},
   "source": [
    "### Serial port"
   ]
  },
  {
   "cell_type": "code",
   "execution_count": 28,
   "id": "e01c7589",
   "metadata": {},
   "outputs": [
    {
     "data": {
      "text/markdown": [
       "**Použití:** `%%serial [listen|read|write|help] [options]`\n",
       "\n",
       "**Příkazy:**\n",
       "- `listen` – čte sériový výstup kontinuálně po dobu `--duration` nebo do přerušení (Ctrl+C)\n",
       "- `read` – přečte zadaný počet řádků (`--lines`)\n",
       "- `write` – zapíše data na sériový port (`--data` nebo obsah buňky)\n",
       "- `help` – zobrazí tuto nápovědu\n",
       "\n",
       "**Společné požadavky:**\n",
       "- Musí být nastavena deska (`%board set`) a sériový port (`%board serial` nebo autodetekce)\n",
       "\n",
       "**Options pro `listen`:**\n",
       "- `--duration <sekundy>` – délka poslechu; pokud není uvedeno, běží do Ctrl+C\n",
       "- `--prefix <text>` – filtruje řádky začínající daným prefixem\n",
       "\n",
       "**Options pro `read`:**\n",
       "- `--lines <počet>` – počet řádků k přečtení (výchozí 1)\n",
       "\n",
       "**Options pro `write`:**\n",
       "- `--data <text>` – text k odeslání; pokud není uvedeno, použije se obsah buňky\n",
       "- `--no-nl` – neposílat na konec zprávy znak nového řádku (`\\n`)\n"
      ],
      "text/plain": [
       "<IPython.core.display.Markdown object>"
      ]
     },
     "metadata": {},
     "output_type": "display_data"
    }
   ],
   "source": [
    "%serial help"
   ]
  },
  {
   "cell_type": "code",
   "execution_count": 29,
   "id": "d7901522",
   "metadata": {},
   "outputs": [
    {
     "data": {
      "text/markdown": [
       "📡 **Listening** – port: `COM5`, baud: `115200`, doba: neomezeně"
      ],
      "text/plain": [
       "<IPython.core.display.Markdown object>"
      ]
     },
     "metadata": {},
     "output_type": "display_data"
    },
    {
     "name": "stdout",
     "output_type": "stream",
     "text": [
      "Hello!\n",
      "Hello!\n",
      "Hello!\n",
      "Hello!\n",
      "Hello!\n",
      "Hello!\n",
      "Hello!\n",
      "Hello!\n",
      "Hello!\n",
      "Hello!\n",
      "Hello!\n",
      "Hello!\n",
      "Hello!\n",
      "Hello!\n"
     ]
    },
    {
     "data": {
      "text/markdown": [
       "✅ **Konec poslechu.**"
      ],
      "text/plain": [
       "<IPython.core.display.Markdown object>"
      ]
     },
     "metadata": {},
     "output_type": "display_data"
    }
   ],
   "source": [
    "%serial listen"
   ]
  },
  {
   "cell_type": "code",
   "execution_count": 9,
   "id": "b5556df5",
   "metadata": {},
   "outputs": [
    {
     "data": {
      "text/markdown": [
       "✉️ **Odesláno:** `Hello from Arduino Colab Kernel!`"
      ],
      "text/plain": [
       "<IPython.core.display.Markdown object>"
      ]
     },
     "metadata": {},
     "output_type": "display_data"
    }
   ],
   "source": [
    "%serial write --data \"Hello from Arduino Colab Kernel!\""
   ]
  },
  {
   "cell_type": "code",
   "execution_count": 30,
   "id": "4193cdfc",
   "metadata": {},
   "outputs": [
    {
     "name": "stdout",
     "output_type": "stream",
     "text": [
      "Hello!\n"
     ]
    }
   ],
   "source": [
    "%serial read --lines 1"
   ]
  }
 ],
 "metadata": {
  "kernelspec": {
   "display_name": "Python 3",
   "language": "python",
   "name": "python3"
  },
  "language_info": {
   "codemirror_mode": {
    "name": "ipython",
    "version": 3
   },
   "file_extension": ".py",
   "mimetype": "text/x-python",
   "name": "python",
   "nbconvert_exporter": "python",
   "pygments_lexer": "ipython3",
   "version": "3.10.11"
  }
 },
 "nbformat": 4,
 "nbformat_minor": 5
}
