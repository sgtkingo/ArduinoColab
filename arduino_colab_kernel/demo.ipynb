{
 "cells": [
  {
   "cell_type": "markdown",
   "id": "e5275772",
   "metadata": {},
   "source": [
    "# DEMO: Jupyter Notebook Oriented Programing Environment for Arduiono-like Devices (*NOPEAD*) "
   ]
  },
  {
   "cell_type": "markdown",
   "id": "249e8e96",
   "metadata": {},
   "source": [
    "## Preparation"
   ]
  },
  {
   "cell_type": "markdown",
   "id": "df8757fd",
   "metadata": {},
   "source": [
    "### Project"
   ]
  },
  {
   "cell_type": "code",
   "execution_count": 1,
   "id": "f91dc7ae",
   "metadata": {},
   "outputs": [],
   "source": [
    "# Load magics for Arduino kernel\n",
    "# This files contains the magic commands for the Arduino kernel in Jupyter.\n",
    "%load_ext arduino_colab_kernel.magic_project\n",
    "%load_ext arduino_colab_kernel.magic_board\n",
    "%load_ext arduino_colab_kernel.magic_code\n",
    "%load_ext arduino_colab_kernel.magic_serial"
   ]
  },
  {
   "cell_type": "code",
   "execution_count": 4,
   "id": "58456d7f",
   "metadata": {},
   "outputs": [
    {
     "data": {
      "text/markdown": [
       "**Projekt s názvem `demo` již existuje. Zvolte jiný název nebo použijte `%project load demo` pro načtení existujícího projektu.**"
      ],
      "text/plain": [
       "<IPython.core.display.Markdown object>"
      ]
     },
     "metadata": {},
     "output_type": "display_data"
    }
   ],
   "source": [
    "# Init project \n",
    "%project init demo"
   ]
  },
  {
   "cell_type": "code",
   "execution_count": 5,
   "id": "8e9f2f0c",
   "metadata": {},
   "outputs": [
    {
     "data": {
      "text/markdown": [
       "`Načten projekt *demo*.`"
      ],
      "text/plain": [
       "<IPython.core.display.Markdown object>"
      ]
     },
     "metadata": {},
     "output_type": "display_data"
    }
   ],
   "source": [
    "# Load exist project \n",
    "%project load demo"
   ]
  },
  {
   "cell_type": "code",
   "execution_count": 6,
   "id": "dd8ce7fa",
   "metadata": {},
   "outputs": [
    {
     "ename": "RuntimeError",
     "evalue": "Není nastavena žádná deska. Zavolej set_board('uno'|'nano').",
     "output_type": "error",
     "traceback": [
      "\u001b[1;31m---------------------------------------------------------------------------\u001b[0m",
      "\u001b[1;31mRuntimeError\u001b[0m                              Traceback (most recent call last)",
      "Cell \u001b[1;32mIn[6], line 2\u001b[0m\n\u001b[0;32m      1\u001b[0m \u001b[38;5;66;03m# Show project status\u001b[39;00m\n\u001b[1;32m----> 2\u001b[0m \u001b[43mget_ipython\u001b[49m\u001b[43m(\u001b[49m\u001b[43m)\u001b[49m\u001b[38;5;241;43m.\u001b[39;49m\u001b[43mrun_line_magic\u001b[49m\u001b[43m(\u001b[49m\u001b[38;5;124;43m'\u001b[39;49m\u001b[38;5;124;43mproject\u001b[39;49m\u001b[38;5;124;43m'\u001b[39;49m\u001b[43m,\u001b[49m\u001b[43m \u001b[49m\u001b[38;5;124;43m'\u001b[39;49m\u001b[38;5;124;43mshow\u001b[39;49m\u001b[38;5;124;43m'\u001b[39;49m\u001b[43m)\u001b[49m\n",
      "File \u001b[1;32m~\\AppData\\Roaming\\Python\\Python310\\site-packages\\IPython\\core\\interactiveshell.py:2482\u001b[0m, in \u001b[0;36mInteractiveShell.run_line_magic\u001b[1;34m(self, magic_name, line, _stack_depth)\u001b[0m\n\u001b[0;32m   2480\u001b[0m     kwargs[\u001b[38;5;124m'\u001b[39m\u001b[38;5;124mlocal_ns\u001b[39m\u001b[38;5;124m'\u001b[39m] \u001b[38;5;241m=\u001b[39m \u001b[38;5;28mself\u001b[39m\u001b[38;5;241m.\u001b[39mget_local_scope(stack_depth)\n\u001b[0;32m   2481\u001b[0m \u001b[38;5;28;01mwith\u001b[39;00m \u001b[38;5;28mself\u001b[39m\u001b[38;5;241m.\u001b[39mbuiltin_trap:\n\u001b[1;32m-> 2482\u001b[0m     result \u001b[38;5;241m=\u001b[39m fn(\u001b[38;5;241m*\u001b[39margs, \u001b[38;5;241m*\u001b[39m\u001b[38;5;241m*\u001b[39mkwargs)\n\u001b[0;32m   2484\u001b[0m \u001b[38;5;66;03m# The code below prevents the output from being displayed\u001b[39;00m\n\u001b[0;32m   2485\u001b[0m \u001b[38;5;66;03m# when using magics with decorator @output_can_be_silenced\u001b[39;00m\n\u001b[0;32m   2486\u001b[0m \u001b[38;5;66;03m# when the last Python token in the expression is a ';'.\u001b[39;00m\n\u001b[0;32m   2487\u001b[0m \u001b[38;5;28;01mif\u001b[39;00m \u001b[38;5;28mgetattr\u001b[39m(fn, magic\u001b[38;5;241m.\u001b[39mMAGIC_OUTPUT_CAN_BE_SILENCED, \u001b[38;5;28;01mFalse\u001b[39;00m):\n",
      "File \u001b[1;32mg:\\můj disk\\projekty\\arduinocolab\\arduino_colab_kernel\\magic_project.py:43\u001b[0m, in \u001b[0;36mProjectMagics.project\u001b[1;34m(self, line)\u001b[0m\n\u001b[0;32m     41\u001b[0m \u001b[38;5;28;01melif\u001b[39;00m cmd \u001b[38;5;241m==\u001b[39m \u001b[38;5;124m\"\u001b[39m\u001b[38;5;124mshow\u001b[39m\u001b[38;5;124m\"\u001b[39m:\n\u001b[0;32m     42\u001b[0m     project_name \u001b[38;5;241m=\u001b[39m project_manager\u001b[38;5;241m.\u001b[39mproject_name \u001b[38;5;28;01mif\u001b[39;00m project_manager\u001b[38;5;241m.\u001b[39mproject_name \u001b[38;5;28;01melse\u001b[39;00m \u001b[38;5;124m\"\u001b[39m\u001b[38;5;124mNení nastaven žádný projekt\u001b[39m\u001b[38;5;124m\"\u001b[39m\n\u001b[1;32m---> 43\u001b[0m     project \u001b[38;5;241m=\u001b[39m \u001b[43mproject_manager\u001b[49m\u001b[38;5;241;43m.\u001b[39;49m\u001b[43mexport\u001b[49m\u001b[43m(\u001b[49m\u001b[43m)\u001b[49m\n\u001b[0;32m     44\u001b[0m     display(Markdown(\u001b[38;5;124mf\u001b[39m\u001b[38;5;124m\"\u001b[39m\u001b[38;5;124mProject: **\u001b[39m\u001b[38;5;132;01m{\u001b[39;00mproject_name\u001b[38;5;132;01m}\u001b[39;00m\u001b[38;5;124m**\u001b[39m\u001b[38;5;130;01m\\n\u001b[39;00m\u001b[38;5;124m ```\u001b[39m\u001b[38;5;130;01m\\n\u001b[39;00m\u001b[38;5;124m\"\u001b[39m \u001b[38;5;241m+\u001b[39m json\u001b[38;5;241m.\u001b[39mdumps(project, indent\u001b[38;5;241m=\u001b[39m\u001b[38;5;241m4\u001b[39m) \u001b[38;5;241m+\u001b[39m \u001b[38;5;124m\"\u001b[39m\u001b[38;5;130;01m\\n\u001b[39;00m\u001b[38;5;124m```\u001b[39m\u001b[38;5;124m\"\u001b[39m))\n\u001b[0;32m     45\u001b[0m \u001b[38;5;28;01melif\u001b[39;00m cmd \u001b[38;5;241m==\u001b[39m \u001b[38;5;124m\"\u001b[39m\u001b[38;5;124mexport\u001b[39m\u001b[38;5;124m\"\u001b[39m:\n",
      "File \u001b[1;32mg:\\můj disk\\projekty\\arduinocolab\\arduino_colab_kernel\\project\\project_manager.py:99\u001b[0m, in \u001b[0;36mArduinoProjectManager.export\u001b[1;34m(self)\u001b[0m\n\u001b[0;32m     90\u001b[0m \u001b[38;5;28;01mdef\u001b[39;00m\u001b[38;5;250m \u001b[39m\u001b[38;5;21mexport\u001b[39m(\u001b[38;5;28mself\u001b[39m) \u001b[38;5;241m-\u001b[39m\u001b[38;5;241m>\u001b[39m \u001b[38;5;28mdict\u001b[39m:\n\u001b[0;32m     91\u001b[0m \u001b[38;5;250m    \u001b[39m\u001b[38;5;124;03m\"\"\"\u001b[39;00m\n\u001b[0;32m     92\u001b[0m \u001b[38;5;124;03m    Exportuje aktuální nastavení projektu jako slovník.\u001b[39;00m\n\u001b[0;32m     93\u001b[0m \u001b[38;5;124;03m    Vrací slovník s názvem projektu a cestou k adresáři.\u001b[39;00m\n\u001b[0;32m     94\u001b[0m \u001b[38;5;124;03m    \"\"\"\u001b[39;00m\n\u001b[0;32m     95\u001b[0m     \u001b[38;5;28;01mreturn\u001b[39;00m {\n\u001b[0;32m     96\u001b[0m         \u001b[38;5;124m\"\u001b[39m\u001b[38;5;124mproject_name\u001b[39m\u001b[38;5;124m\"\u001b[39m: \u001b[38;5;28mself\u001b[39m\u001b[38;5;241m.\u001b[39mproject_name,\n\u001b[0;32m     97\u001b[0m         \u001b[38;5;124m\"\u001b[39m\u001b[38;5;124mproject_dir\u001b[39m\u001b[38;5;124m\"\u001b[39m: \u001b[38;5;28mself\u001b[39m\u001b[38;5;241m.\u001b[39mget_project_dir(as_abs\u001b[38;5;241m=\u001b[39m\u001b[38;5;28;01mTrue\u001b[39;00m),\n\u001b[0;32m     98\u001b[0m         \u001b[38;5;124m\"\u001b[39m\u001b[38;5;124mino_file\u001b[39m\u001b[38;5;124m\"\u001b[39m: \u001b[38;5;28mself\u001b[39m\u001b[38;5;241m.\u001b[39mino_generator\u001b[38;5;241m.\u001b[39mget_path(),\n\u001b[1;32m---> 99\u001b[0m         \u001b[38;5;124m\"\u001b[39m\u001b[38;5;124mboard\u001b[39m\u001b[38;5;124m\"\u001b[39m: \u001b[43mboard_manager\u001b[49m\u001b[38;5;241;43m.\u001b[39;49m\u001b[43mexport\u001b[49m\u001b[43m(\u001b[49m\u001b[43m)\u001b[49m,\n\u001b[0;32m    100\u001b[0m         \u001b[38;5;124m\"\u001b[39m\u001b[38;5;124mcode\u001b[39m\u001b[38;5;124m\"\u001b[39m: code_manager\u001b[38;5;241m.\u001b[39mexport_as_json()\n\u001b[0;32m    101\u001b[0m     }\n",
      "File \u001b[1;32mg:\\můj disk\\projekty\\arduinocolab\\arduino_colab_kernel\\board\\board_manager.py:172\u001b[0m, in \u001b[0;36mBoardManager.export\u001b[1;34m(self)\u001b[0m\n\u001b[0;32m    170\u001b[0m \u001b[38;5;28;01mdef\u001b[39;00m\u001b[38;5;250m \u001b[39m\u001b[38;5;21mexport\u001b[39m(\u001b[38;5;28mself\u001b[39m) \u001b[38;5;241m-\u001b[39m\u001b[38;5;241m>\u001b[39m \u001b[38;5;28mdict\u001b[39m:\n\u001b[0;32m    171\u001b[0m     \u001b[38;5;66;03m# Vrací konfiguraci aktuální desky a sériového portu jako slovík\u001b[39;00m\n\u001b[1;32m--> 172\u001b[0m     b \u001b[38;5;241m=\u001b[39m \u001b[38;5;28;43mself\u001b[39;49m\u001b[38;5;241;43m.\u001b[39;49m\u001b[43mrequire_board\u001b[49m\u001b[43m(\u001b[49m\u001b[43m)\u001b[49m\n\u001b[0;32m    173\u001b[0m     \u001b[38;5;28;01mif\u001b[39;00m \u001b[38;5;129;01mnot\u001b[39;00m b:\n\u001b[0;32m    174\u001b[0m         \u001b[38;5;28;01mraise\u001b[39;00m \u001b[38;5;167;01mRuntimeError\u001b[39;00m(\u001b[38;5;124m\"\u001b[39m\u001b[38;5;124mNení nastavena žádná deska.\u001b[39m\u001b[38;5;124m\"\u001b[39m)\n",
      "File \u001b[1;32mg:\\můj disk\\projekty\\arduinocolab\\arduino_colab_kernel\\board\\board_manager.py:93\u001b[0m, in \u001b[0;36mBoardManager.require_board\u001b[1;34m(self)\u001b[0m\n\u001b[0;32m     91\u001b[0m \u001b[38;5;28;01mdef\u001b[39;00m\u001b[38;5;250m \u001b[39m\u001b[38;5;21mrequire_board\u001b[39m(\u001b[38;5;28mself\u001b[39m) \u001b[38;5;241m-\u001b[39m\u001b[38;5;241m>\u001b[39m Board:\n\u001b[0;32m     92\u001b[0m     \u001b[38;5;28;01mif\u001b[39;00m \u001b[38;5;129;01mnot\u001b[39;00m \u001b[38;5;28mself\u001b[39m\u001b[38;5;241m.\u001b[39mboard:\n\u001b[1;32m---> 93\u001b[0m         \u001b[38;5;28;01mraise\u001b[39;00m \u001b[38;5;167;01mRuntimeError\u001b[39;00m(\u001b[38;5;124m\"\u001b[39m\u001b[38;5;124mNení nastavena žádná deska. Zavolej set_board(\u001b[39m\u001b[38;5;124m'\u001b[39m\u001b[38;5;124muno\u001b[39m\u001b[38;5;124m'\u001b[39m\u001b[38;5;124m|\u001b[39m\u001b[38;5;124m'\u001b[39m\u001b[38;5;124mnano\u001b[39m\u001b[38;5;124m'\u001b[39m\u001b[38;5;124m).\u001b[39m\u001b[38;5;124m\"\u001b[39m)\n\u001b[0;32m     94\u001b[0m     \u001b[38;5;28;01mreturn\u001b[39;00m \u001b[38;5;28mself\u001b[39m\u001b[38;5;241m.\u001b[39mboard\n",
      "\u001b[1;31mRuntimeError\u001b[0m: Není nastavena žádná deska. Zavolej set_board('uno'|'nano')."
     ]
    }
   ],
   "source": [
    "# Show project status\n",
    "%project show"
   ]
  },
  {
   "cell_type": "code",
   "execution_count": 5,
   "id": "4fa9be19",
   "metadata": {},
   "outputs": [
    {
     "data": {
      "text/markdown": [
       "**Použití: `%project init` `<název>` nebo `%project load` `<název>`, `get`, `clear`, `delete`, `show`, `export`**"
      ],
      "text/plain": [
       "<IPython.core.display.Markdown object>"
      ]
     },
     "metadata": {},
     "output_type": "display_data"
    }
   ],
   "source": [
    "# Show project helps \n",
    "%project help"
   ]
  },
  {
   "cell_type": "markdown",
   "id": "a58a031e",
   "metadata": {},
   "source": [
    "### Board"
   ]
  },
  {
   "cell_type": "code",
   "execution_count": 7,
   "id": "23a265e4",
   "metadata": {},
   "outputs": [
    {
     "data": {
      "text/markdown": [
       "**%board – příkazy**\n",
       "\n",
       "- `%board select [uno|nano]` – vybere podporovanou desku (pokud není nastaven port, zkusí se autodetekce)\n",
       "- `%board status` – vypíše aktuální nastavení (deska, FQBN, sériový port)\n",
       "- `%board serial [--port COMx] [--baud 115200] [--timeout 0.1] [--encoding utf-8] [--strip true|false]` – nastaví sériový port\n",
       "- `%board compile [sketch_dir_or_ino] [--log-file path]` – přeloží sketch\n",
       "- `%board upload  [sketch_dir_or_ino] [--log-file path]` – nahraje sketch\n",
       "- `%board list` - vypíše dostupné podporované desky\n",
       "- `%board ports` – vypíše dostupné sériové porty\n",
       "- `%board help|?` – nápověda\n"
      ],
      "text/plain": [
       "<IPython.core.display.Markdown object>"
      ]
     },
     "metadata": {},
     "output_type": "display_data"
    }
   ],
   "source": [
    "# Show boards options\n",
    "%board help"
   ]
  },
  {
   "cell_type": "code",
   "execution_count": 8,
   "id": "8803e739",
   "metadata": {},
   "outputs": [
    {
     "data": {
      "text/markdown": [
       "**Dostupné desky:**  \n",
       "- `uno` (FQBN: `arduino:avr:uno`)\n",
       "- `nano` (FQBN: `arduino:avr:nano`)"
      ],
      "text/plain": [
       "<IPython.core.display.Markdown object>"
      ]
     },
     "metadata": {},
     "output_type": "display_data"
    }
   ],
   "source": [
    "%board list"
   ]
  },
  {
   "cell_type": "code",
   "execution_count": 9,
   "id": "4c439a26",
   "metadata": {},
   "outputs": [
    {
     "data": {
      "text/markdown": [
       "**Dostupné sériové porty:**  \n",
       "- `COM5`"
      ],
      "text/plain": [
       "<IPython.core.display.Markdown object>"
      ]
     },
     "metadata": {},
     "output_type": "display_data"
    }
   ],
   "source": [
    "%board ports"
   ]
  },
  {
   "cell_type": "code",
   "execution_count": 4,
   "id": "f381d153",
   "metadata": {},
   "outputs": [
    {
     "data": {
      "text/markdown": [
       "✅ Nastavena deska **uno** (FQBN `arduino:avr:uno`) &nbsp;|&nbsp; Auto port: `COM5`"
      ],
      "text/plain": [
       "<IPython.core.display.Markdown object>"
      ]
     },
     "metadata": {},
     "output_type": "display_data"
    }
   ],
   "source": [
    "%board select uno"
   ]
  },
  {
   "cell_type": "code",
   "execution_count": 6,
   "id": "f4ba1b54",
   "metadata": {},
   "outputs": [
    {
     "data": {
      "text/markdown": [
       "✅ Nastavena deska **uno** (FQBN `arduino:avr:uno`) &nbsp;|&nbsp; Port: `COM5` (explicitní)"
      ],
      "text/plain": [
       "<IPython.core.display.Markdown object>"
      ]
     },
     "metadata": {},
     "output_type": "display_data"
    }
   ],
   "source": [
    "# Select board\n",
    "%board select uno --port COM5"
   ]
  },
  {
   "cell_type": "code",
   "execution_count": 11,
   "id": "7c3d2271",
   "metadata": {},
   "outputs": [
    {
     "data": {
      "text/markdown": [
       "**Board status**\n",
       "\n",
       "- Deska: `uno`\n",
       "- FQBN: `arduino:avr:uno`\n",
       "- Port: `COM5`\n",
       "- Baud: `115200`\n",
       "- Timeout: `0.1`\n",
       "- Encoding: `utf-8`\n",
       "- Auto strip: `True`\n"
      ],
      "text/plain": [
       "<IPython.core.display.Markdown object>"
      ]
     },
     "metadata": {},
     "output_type": "display_data"
    }
   ],
   "source": [
    "%board status"
   ]
  },
  {
   "cell_type": "markdown",
   "id": "4cb8ae21",
   "metadata": {},
   "source": [
    "## Code\n",
    "\n",
    "Lets code here!"
   ]
  },
  {
   "cell_type": "code",
   "execution_count": 12,
   "id": "df77a543",
   "metadata": {},
   "outputs": [
    {
     "data": {
      "text/markdown": [
       "`Paměť kodu vymazána.`"
      ],
      "text/plain": [
       "<IPython.core.display.Markdown object>"
      ]
     },
     "metadata": {},
     "output_type": "display_data"
    }
   ],
   "source": [
    "# Clear old code if exists\n",
    "%project clear"
   ]
  },
  {
   "cell_type": "code",
   "execution_count": 13,
   "id": "747cafd6",
   "metadata": {},
   "outputs": [
    {
     "data": {
      "text/markdown": [
       "`Kód aktualizován`, sekce: `globals`, buňka: `1`."
      ],
      "text/plain": [
       "<IPython.core.display.Markdown object>"
      ]
     },
     "metadata": {},
     "output_type": "display_data"
    }
   ],
   "source": [
    "%%code globals 1\n",
    "int led = 13; // Pin for the LED\n",
    "int timer = 1000; // Delay time in milliseconds"
   ]
  },
  {
   "cell_type": "code",
   "execution_count": 14,
   "id": "19b9bcfe",
   "metadata": {},
   "outputs": [
    {
     "data": {
      "text/markdown": [
       "`Kód aktualizován`, sekce: `setup`, buňka: `0`."
      ],
      "text/plain": [
       "<IPython.core.display.Markdown object>"
      ]
     },
     "metadata": {},
     "output_type": "display_data"
    }
   ],
   "source": [
    "%%code setup\n",
    "pinMode(led, OUTPUT); // Set the LED pin as output "
   ]
  },
  {
   "cell_type": "code",
   "execution_count": 15,
   "id": "c464b007",
   "metadata": {},
   "outputs": [
    {
     "data": {
      "text/markdown": [
       "`Kód aktualizován`, sekce: `loop`, buňka: `0`."
      ],
      "text/plain": [
       "<IPython.core.display.Markdown object>"
      ]
     },
     "metadata": {},
     "output_type": "display_data"
    }
   ],
   "source": [
    "%%code loop\n",
    "digitalWrite(led, HIGH); delay(timer);\n",
    "digitalWrite(led, LOW);  delay(timer);"
   ]
  },
  {
   "cell_type": "code",
   "execution_count": 16,
   "id": "7a4b48fc",
   "metadata": {},
   "outputs": [
    {
     "data": {
      "text/markdown": [
       "Project: **demo**\n",
       " ```\n",
       "{\n",
       "    \"project_name\": \"demo\",\n",
       "    \"project_dir\": \"g:\\\\M\\u016fj disk\\\\Projekty\\\\ArduinoColab\\\\arduino_colab_kernel\\\\projects\\\\demo\",\n",
       "    \"ino_file\": \"g:\\\\M\\u016fj disk\\\\Projekty\\\\ArduinoColab\\\\arduino_colab_kernel\\\\projects\\\\demo\\\\demo.ino\",\n",
       "    \"board\": {\n",
       "        \"name\": \"uno\",\n",
       "        \"fqbn\": \"arduino:avr:uno\",\n",
       "        \"port\": \"COM5\",\n",
       "        \"baudrate\": 115200,\n",
       "        \"timeout\": 0.1,\n",
       "        \"encoding\": \"utf-8\",\n",
       "        \"autostrip\": true\n",
       "    },\n",
       "    \"code\": {\n",
       "        \"globals\": {\n",
       "            \"1\": \"int led = 13; // Pin for the LED\\nint timer = 1000; // Delay time in milliseconds\"\n",
       "        },\n",
       "        \"setup\": {\n",
       "            \"0\": \"pinMode(led, OUTPUT); // Set the LED pin as output\"\n",
       "        },\n",
       "        \"loop\": {\n",
       "            \"0\": \"digitalWrite(led, HIGH); delay(timer);\\ndigitalWrite(led, LOW);  delay(timer);\"\n",
       "        },\n",
       "        \"functions\": {}\n",
       "    }\n",
       "}\n",
       "```"
      ],
      "text/plain": [
       "<IPython.core.display.Markdown object>"
      ]
     },
     "metadata": {},
     "output_type": "display_data"
    }
   ],
   "source": [
    "%project show"
   ]
  },
  {
   "cell_type": "code",
   "execution_count": 17,
   "id": "c21f7c5e",
   "metadata": {},
   "outputs": [
    {
     "data": {
      "text/markdown": [
       "`Kód aktualizován`, sekce: `globals`, buňka: `1`."
      ],
      "text/plain": [
       "<IPython.core.display.Markdown object>"
      ]
     },
     "metadata": {},
     "output_type": "display_data"
    }
   ],
   "source": [
    "%%code globals 1\n",
    "int led = 13; // Pin for the LED\n",
    "int timer = 500; // Delay time in milliseconds"
   ]
  },
  {
   "cell_type": "code",
   "execution_count": 18,
   "id": "f2b4b56f",
   "metadata": {},
   "outputs": [
    {
     "data": {
      "text/markdown": [
       "Project: **demo**\n",
       " ```\n",
       "{\n",
       "    \"project_name\": \"demo\",\n",
       "    \"project_dir\": \"g:\\\\M\\u016fj disk\\\\Projekty\\\\ArduinoColab\\\\arduino_colab_kernel\\\\projects\\\\demo\",\n",
       "    \"ino_file\": \"g:\\\\M\\u016fj disk\\\\Projekty\\\\ArduinoColab\\\\arduino_colab_kernel\\\\projects\\\\demo\\\\demo.ino\",\n",
       "    \"board\": {\n",
       "        \"name\": \"uno\",\n",
       "        \"fqbn\": \"arduino:avr:uno\",\n",
       "        \"port\": \"COM5\",\n",
       "        \"baudrate\": 115200,\n",
       "        \"timeout\": 0.1,\n",
       "        \"encoding\": \"utf-8\",\n",
       "        \"autostrip\": true\n",
       "    },\n",
       "    \"code\": {\n",
       "        \"globals\": {\n",
       "            \"1\": \"int led = 13; // Pin for the LED\\nint timer = 500; // Delay time in milliseconds\"\n",
       "        },\n",
       "        \"setup\": {\n",
       "            \"0\": \"pinMode(led, OUTPUT); // Set the LED pin as output\"\n",
       "        },\n",
       "        \"loop\": {\n",
       "            \"0\": \"digitalWrite(led, HIGH); delay(timer);\\ndigitalWrite(led, LOW);  delay(timer);\"\n",
       "        },\n",
       "        \"functions\": {}\n",
       "    }\n",
       "}\n",
       "```"
      ],
      "text/plain": [
       "<IPython.core.display.Markdown object>"
      ]
     },
     "metadata": {},
     "output_type": "display_data"
    }
   ],
   "source": [
    "%project show"
   ]
  },
  {
   "cell_type": "code",
   "execution_count": 19,
   "id": "6666d26d",
   "metadata": {},
   "outputs": [
    {
     "data": {
      "text/markdown": [
       "```\n",
       " Project exported and saved as:g:\\Můj disk\\Projekty\\ArduinoColab\\arduino_colab_kernel\\projects\\demo\n",
       "```"
      ],
      "text/plain": [
       "<IPython.core.display.Markdown object>"
      ]
     },
     "metadata": {},
     "output_type": "display_data"
    }
   ],
   "source": [
    "%project export"
   ]
  },
  {
   "cell_type": "code",
   "execution_count": 20,
   "id": "c11825c2",
   "metadata": {},
   "outputs": [
    {
     "data": {
      "text/markdown": [
       "**Použití: `%project init` `<název>` nebo `%project load` `<název>`, `get`, `clear`, `delete`, `show`, `export`**"
      ],
      "text/plain": [
       "<IPython.core.display.Markdown object>"
      ]
     },
     "metadata": {},
     "output_type": "display_data"
    }
   ],
   "source": [
    "%project ?"
   ]
  },
  {
   "cell_type": "code",
   "execution_count": 21,
   "id": "cf8c6217",
   "metadata": {},
   "outputs": [
    {
     "data": {
      "text/markdown": [
       "Projekt: **demo** \t se nachází v: *g:\\Můj disk\\Projekty\\ArduinoColab\\arduino_colab_kernel\\projects\\demo*"
      ],
      "text/plain": [
       "<IPython.core.display.Markdown object>"
      ]
     },
     "metadata": {},
     "output_type": "display_data"
    }
   ],
   "source": [
    "%project get"
   ]
  },
  {
   "cell_type": "markdown",
   "id": "a50517cb",
   "metadata": {},
   "source": [
    "### Upload"
   ]
  },
  {
   "cell_type": "code",
   "execution_count": 23,
   "id": "f3fa093f",
   "metadata": {},
   "outputs": [
    {
     "name": "stdout",
     "output_type": "stream",
     "text": [
      "Kompiluji: g:\\Můj disk\\Projekty\\ArduinoColab\\arduino_colab_kernel\\tools\\arduino-cli.exe compile g:\\Můj disk\\Projekty\\ArduinoColab\\arduino_colab_kernel\\projects\\demo -p COM5 -b arduino:avr:uno\n",
      "Sketch uses 946 bytes (2%) of program storage space. Maximum is 32256 bytes.\n",
      "Global variables use 9 bytes (0%) of dynamic memory, leaving 2039 bytes for local variables. Maximum is 2048 bytes.\n",
      "\n",
      "Nahrávám: g:\\Můj disk\\Projekty\\ArduinoColab\\arduino_colab_kernel\\tools\\arduino-cli.exe upload g:\\Můj disk\\Projekty\\ArduinoColab\\arduino_colab_kernel\\projects\\demo -p COM5 -b arduino:avr:uno\n",
      "New upload port: COM5 (serial)\n",
      "\n"
     ]
    },
    {
     "data": {
      "text/markdown": [
       "🚀 **Nahrávání dokončeno.**"
      ],
      "text/plain": [
       "<IPython.core.display.Markdown object>"
      ]
     },
     "metadata": {},
     "output_type": "display_data"
    }
   ],
   "source": [
    "%board upload --log_file upload.log"
   ]
  },
  {
   "cell_type": "markdown",
   "id": "c147461b",
   "metadata": {},
   "source": [
    "### Serial port"
   ]
  },
  {
   "cell_type": "code",
   "execution_count": 2,
   "id": "e01c7589",
   "metadata": {},
   "outputs": [
    {
     "data": {
      "text/markdown": [
       "**Použití:** `%%serial [listen|read|write|help] [options]`\n",
       "\n",
       "**Příkazy:**\n",
       "- `listen` – čte sériový výstup kontinuálně po dobu `--duration` nebo do přerušení (Ctrl+C)\n",
       "- `read` – přečte zadaný počet řádků (`--lines`)\n",
       "- `write` – zapíše data na sériový port (`--data` nebo obsah buňky)\n",
       "- `help` – zobrazí tuto nápovědu\n",
       "\n",
       "**Společné požadavky:**\n",
       "- Musí být nastavena deska (`%board set`) a sériový port (`%board serial` nebo autodetekce)\n",
       "\n",
       "**Options pro `listen`:**\n",
       "- `--duration <sekundy>` – délka poslechu; pokud není uvedeno, běží do Ctrl+C\n",
       "- `--prefix <text>` – filtruje řádky začínající daným prefixem\n",
       "\n",
       "**Options pro `read`:**\n",
       "- `--lines <počet>` – počet řádků k přečtení (výchozí 1)\n",
       "\n",
       "**Options pro `write`:**\n",
       "- `--data <text>` – text k odeslání; pokud není uvedeno, použije se obsah buňky\n",
       "- `--no-nl` – neposílat na konec zprávy znak nového řádku (`\\n`)\n"
      ],
      "text/plain": [
       "<IPython.core.display.Markdown object>"
      ]
     },
     "metadata": {},
     "output_type": "display_data"
    }
   ],
   "source": [
    "%serial help\n"
   ]
  },
  {
   "cell_type": "code",
   "execution_count": 5,
   "id": "d7901522",
   "metadata": {},
   "outputs": [
    {
     "data": {
      "text/markdown": [
       "📡 **Listening** – port: `COM5`, baud: `115200`, doba: neomezeně"
      ],
      "text/plain": [
       "<IPython.core.display.Markdown object>"
      ]
     },
     "metadata": {},
     "output_type": "display_data"
    },
    {
     "data": {
      "text/markdown": [
       "✅ **Konec poslechu.**"
      ],
      "text/plain": [
       "<IPython.core.display.Markdown object>"
      ]
     },
     "metadata": {},
     "output_type": "display_data"
    }
   ],
   "source": [
    "%serial listen"
   ]
  },
  {
   "cell_type": "code",
   "execution_count": 9,
   "id": "b5556df5",
   "metadata": {},
   "outputs": [
    {
     "data": {
      "text/markdown": [
       "✉️ **Odesláno:** `Hello from Arduino Colab Kernel!`"
      ],
      "text/plain": [
       "<IPython.core.display.Markdown object>"
      ]
     },
     "metadata": {},
     "output_type": "display_data"
    }
   ],
   "source": [
    "%serial write --data \"Hello from Arduino Colab Kernel!\""
   ]
  },
  {
   "cell_type": "code",
   "execution_count": 8,
   "id": "4193cdfc",
   "metadata": {},
   "outputs": [
    {
     "ename": "KeyboardInterrupt",
     "evalue": "",
     "output_type": "error",
     "traceback": [
      "\u001b[1;31m---------------------------------------------------------------------------\u001b[0m",
      "\u001b[1;31mKeyboardInterrupt\u001b[0m                         Traceback (most recent call last)",
      "Cell \u001b[1;32mIn[8], line 1\u001b[0m\n\u001b[1;32m----> 1\u001b[0m \u001b[43mget_ipython\u001b[49m\u001b[43m(\u001b[49m\u001b[43m)\u001b[49m\u001b[38;5;241;43m.\u001b[39;49m\u001b[43mrun_line_magic\u001b[49m\u001b[43m(\u001b[49m\u001b[38;5;124;43m'\u001b[39;49m\u001b[38;5;124;43mserial\u001b[39;49m\u001b[38;5;124;43m'\u001b[39;49m\u001b[43m,\u001b[49m\u001b[43m \u001b[49m\u001b[38;5;124;43m'\u001b[39;49m\u001b[38;5;124;43mread\u001b[39;49m\u001b[38;5;124;43m'\u001b[39;49m\u001b[43m)\u001b[49m\n",
      "File \u001b[1;32m~\\AppData\\Roaming\\Python\\Python310\\site-packages\\IPython\\core\\interactiveshell.py:2482\u001b[0m, in \u001b[0;36mInteractiveShell.run_line_magic\u001b[1;34m(self, magic_name, line, _stack_depth)\u001b[0m\n\u001b[0;32m   2480\u001b[0m     kwargs[\u001b[38;5;124m'\u001b[39m\u001b[38;5;124mlocal_ns\u001b[39m\u001b[38;5;124m'\u001b[39m] \u001b[38;5;241m=\u001b[39m \u001b[38;5;28mself\u001b[39m\u001b[38;5;241m.\u001b[39mget_local_scope(stack_depth)\n\u001b[0;32m   2481\u001b[0m \u001b[38;5;28;01mwith\u001b[39;00m \u001b[38;5;28mself\u001b[39m\u001b[38;5;241m.\u001b[39mbuiltin_trap:\n\u001b[1;32m-> 2482\u001b[0m     result \u001b[38;5;241m=\u001b[39m fn(\u001b[38;5;241m*\u001b[39margs, \u001b[38;5;241m*\u001b[39m\u001b[38;5;241m*\u001b[39mkwargs)\n\u001b[0;32m   2484\u001b[0m \u001b[38;5;66;03m# The code below prevents the output from being displayed\u001b[39;00m\n\u001b[0;32m   2485\u001b[0m \u001b[38;5;66;03m# when using magics with decorator @output_can_be_silenced\u001b[39;00m\n\u001b[0;32m   2486\u001b[0m \u001b[38;5;66;03m# when the last Python token in the expression is a ';'.\u001b[39;00m\n\u001b[0;32m   2487\u001b[0m \u001b[38;5;28;01mif\u001b[39;00m \u001b[38;5;28mgetattr\u001b[39m(fn, magic\u001b[38;5;241m.\u001b[39mMAGIC_OUTPUT_CAN_BE_SILENCED, \u001b[38;5;28;01mFalse\u001b[39;00m):\n",
      "File \u001b[1;32mg:\\můj disk\\projekty\\arduinocolab\\arduino_colab_kernel\\magic_serial.py:96\u001b[0m, in \u001b[0;36mSerialMagic.serial\u001b[1;34m(self, line, cell)\u001b[0m\n\u001b[0;32m     94\u001b[0m \u001b[38;5;28;01melif\u001b[39;00m cmd \u001b[38;5;241m==\u001b[39m \u001b[38;5;124m\"\u001b[39m\u001b[38;5;124mread\u001b[39m\u001b[38;5;124m\"\u001b[39m:\n\u001b[0;32m     95\u001b[0m     lines \u001b[38;5;241m=\u001b[39m \u001b[38;5;28mmax\u001b[39m(\u001b[38;5;241m1\u001b[39m, opts[\u001b[38;5;124m\"\u001b[39m\u001b[38;5;124mlines\u001b[39m\u001b[38;5;124m\"\u001b[39m])\n\u001b[1;32m---> 96\u001b[0m     \u001b[38;5;28;01mfor\u001b[39;00m ln \u001b[38;5;129;01min\u001b[39;00m \u001b[43msp\u001b[49m\u001b[38;5;241;43m.\u001b[39;49m\u001b[43mread\u001b[49m\u001b[43m(\u001b[49m\u001b[43mlines\u001b[49m\u001b[38;5;241;43m=\u001b[39;49m\u001b[43mlines\u001b[49m\u001b[43m)\u001b[49m:\n\u001b[0;32m     97\u001b[0m         \u001b[38;5;28mprint\u001b[39m(ln)\n\u001b[0;32m     99\u001b[0m \u001b[38;5;28;01melif\u001b[39;00m cmd \u001b[38;5;241m==\u001b[39m \u001b[38;5;124m\"\u001b[39m\u001b[38;5;124mwrite\u001b[39m\u001b[38;5;124m\"\u001b[39m:\n",
      "File \u001b[1;32mg:\\můj disk\\projekty\\arduinocolab\\arduino_colab_kernel\\board\\serial_port.py:110\u001b[0m, in \u001b[0;36mSerialPort.read\u001b[1;34m(self, lines)\u001b[0m\n\u001b[0;32m    108\u001b[0m out: \u001b[38;5;28mlist\u001b[39m[\u001b[38;5;28mstr\u001b[39m] \u001b[38;5;241m=\u001b[39m []\n\u001b[0;32m    109\u001b[0m \u001b[38;5;28;01mwhile\u001b[39;00m \u001b[38;5;28mlen\u001b[39m(out) \u001b[38;5;241m<\u001b[39m lines:\n\u001b[1;32m--> 110\u001b[0m     line \u001b[38;5;241m=\u001b[39m \u001b[38;5;28;43mself\u001b[39;49m\u001b[38;5;241;43m.\u001b[39;49m\u001b[43mreadline\u001b[49m\u001b[43m(\u001b[49m\u001b[43m)\u001b[49m\n\u001b[0;32m    111\u001b[0m     \u001b[38;5;28;01mif\u001b[39;00m line \u001b[38;5;129;01mis\u001b[39;00m \u001b[38;5;28;01mNone\u001b[39;00m:\n\u001b[0;32m    112\u001b[0m         time\u001b[38;5;241m.\u001b[39msleep(\u001b[38;5;241m0.01\u001b[39m)  \u001b[38;5;66;03m# jemná pauza proti točení CPU\u001b[39;00m\n",
      "File \u001b[1;32mg:\\můj disk\\projekty\\arduinocolab\\arduino_colab_kernel\\board\\serial_port.py:95\u001b[0m, in \u001b[0;36mSerialPort.readline\u001b[1;34m(self)\u001b[0m\n\u001b[0;32m     93\u001b[0m \u001b[38;5;28;01mif\u001b[39;00m \u001b[38;5;129;01mnot\u001b[39;00m \u001b[38;5;28mself\u001b[39m\u001b[38;5;241m.\u001b[39m_ser \u001b[38;5;129;01mor\u001b[39;00m \u001b[38;5;129;01mnot\u001b[39;00m \u001b[38;5;28mself\u001b[39m\u001b[38;5;241m.\u001b[39m_ser\u001b[38;5;241m.\u001b[39mis_open:\n\u001b[0;32m     94\u001b[0m     \u001b[38;5;28;01mreturn\u001b[39;00m \u001b[38;5;28;01mNone\u001b[39;00m\n\u001b[1;32m---> 95\u001b[0m raw \u001b[38;5;241m=\u001b[39m \u001b[38;5;28;43mself\u001b[39;49m\u001b[38;5;241;43m.\u001b[39;49m\u001b[43m_ser\u001b[49m\u001b[38;5;241;43m.\u001b[39;49m\u001b[43mreadline\u001b[49m\u001b[43m(\u001b[49m\u001b[43m)\u001b[49m\n\u001b[0;32m     96\u001b[0m \u001b[38;5;28;01mif\u001b[39;00m \u001b[38;5;129;01mnot\u001b[39;00m raw:\n\u001b[0;32m     97\u001b[0m     \u001b[38;5;28;01mreturn\u001b[39;00m \u001b[38;5;28;01mNone\u001b[39;00m\n",
      "File \u001b[1;32mc:\\Users\\jirka\\AppData\\Local\\Programs\\Python\\Python310\\lib\\site-packages\\serial\\serialwin32.py:288\u001b[0m, in \u001b[0;36mSerial.read\u001b[1;34m(self, size)\u001b[0m\n\u001b[0;32m    286\u001b[0m \u001b[38;5;28;01mif\u001b[39;00m \u001b[38;5;129;01mnot\u001b[39;00m read_ok \u001b[38;5;129;01mand\u001b[39;00m win32\u001b[38;5;241m.\u001b[39mGetLastError() \u001b[38;5;129;01mnot\u001b[39;00m \u001b[38;5;129;01min\u001b[39;00m (win32\u001b[38;5;241m.\u001b[39mERROR_SUCCESS, win32\u001b[38;5;241m.\u001b[39mERROR_IO_PENDING):\n\u001b[0;32m    287\u001b[0m     \u001b[38;5;28;01mraise\u001b[39;00m SerialException(\u001b[38;5;124m\"\u001b[39m\u001b[38;5;124mReadFile failed (\u001b[39m\u001b[38;5;132;01m{!r}\u001b[39;00m\u001b[38;5;124m)\u001b[39m\u001b[38;5;124m\"\u001b[39m\u001b[38;5;241m.\u001b[39mformat(ctypes\u001b[38;5;241m.\u001b[39mWinError()))\n\u001b[1;32m--> 288\u001b[0m result_ok \u001b[38;5;241m=\u001b[39m \u001b[43mwin32\u001b[49m\u001b[38;5;241;43m.\u001b[39;49m\u001b[43mGetOverlappedResult\u001b[49m\u001b[43m(\u001b[49m\n\u001b[0;32m    289\u001b[0m \u001b[43m    \u001b[49m\u001b[38;5;28;43mself\u001b[39;49m\u001b[38;5;241;43m.\u001b[39;49m\u001b[43m_port_handle\u001b[49m\u001b[43m,\u001b[49m\n\u001b[0;32m    290\u001b[0m \u001b[43m    \u001b[49m\u001b[43mctypes\u001b[49m\u001b[38;5;241;43m.\u001b[39;49m\u001b[43mbyref\u001b[49m\u001b[43m(\u001b[49m\u001b[38;5;28;43mself\u001b[39;49m\u001b[38;5;241;43m.\u001b[39;49m\u001b[43m_overlapped_read\u001b[49m\u001b[43m)\u001b[49m\u001b[43m,\u001b[49m\n\u001b[0;32m    291\u001b[0m \u001b[43m    \u001b[49m\u001b[43mctypes\u001b[49m\u001b[38;5;241;43m.\u001b[39;49m\u001b[43mbyref\u001b[49m\u001b[43m(\u001b[49m\u001b[43mrc\u001b[49m\u001b[43m)\u001b[49m\u001b[43m,\u001b[49m\n\u001b[0;32m    292\u001b[0m \u001b[43m    \u001b[49m\u001b[38;5;28;43;01mTrue\u001b[39;49;00m\u001b[43m)\u001b[49m\n\u001b[0;32m    293\u001b[0m \u001b[38;5;28;01mif\u001b[39;00m \u001b[38;5;129;01mnot\u001b[39;00m result_ok:\n\u001b[0;32m    294\u001b[0m     \u001b[38;5;28;01mif\u001b[39;00m win32\u001b[38;5;241m.\u001b[39mGetLastError() \u001b[38;5;241m!=\u001b[39m win32\u001b[38;5;241m.\u001b[39mERROR_OPERATION_ABORTED:\n",
      "\u001b[1;31mKeyboardInterrupt\u001b[0m: "
     ]
    }
   ],
   "source": [
    "%serial read"
   ]
  }
 ],
 "metadata": {
  "kernelspec": {
   "display_name": "Python 3",
   "language": "python",
   "name": "python3"
  },
  "language_info": {
   "codemirror_mode": {
    "name": "ipython",
    "version": 3
   },
   "file_extension": ".py",
   "mimetype": "text/x-python",
   "name": "python",
   "nbconvert_exporter": "python",
   "pygments_lexer": "ipython3",
   "version": "3.10.11"
  }
 },
 "nbformat": 4,
 "nbformat_minor": 5
}
