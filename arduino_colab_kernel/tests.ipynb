{
 "cells": [
  {
   "cell_type": "code",
   "execution_count": 1,
   "id": "e58367d8",
   "metadata": {},
   "outputs": [],
   "source": [
    "%load_ext magic_arduino"
   ]
  },
  {
   "cell_type": "code",
   "execution_count": 2,
   "id": "c343843f",
   "metadata": {},
   "outputs": [],
   "source": [
    "%reload_ext magic_arduino"
   ]
  },
  {
   "cell_type": "code",
   "execution_count": 2,
   "id": "540213d8",
   "metadata": {},
   "outputs": [
    {
     "data": {
      "text/markdown": [
       "**Projekt s názvem `demo` již existuje. Zvolte jiný název nebo použijte `%project load demo` pro načtení existujícího projektu.**"
      ],
      "text/plain": [
       "<IPython.core.display.Markdown object>"
      ]
     },
     "metadata": {},
     "output_type": "display_data"
    }
   ],
   "source": [
    "%project init demo"
   ]
  },
  {
   "cell_type": "code",
   "execution_count": 3,
   "id": "9c1268d9",
   "metadata": {},
   "outputs": [
    {
     "data": {
      "text/markdown": [
       "`Paměť kodu vymazána.`"
      ],
      "text/plain": [
       "<IPython.core.display.Markdown object>"
      ]
     },
     "metadata": {},
     "output_type": "display_data"
    }
   ],
   "source": [
    "%project clear"
   ]
  },
  {
   "cell_type": "code",
   "execution_count": 4,
   "id": "8d97089d",
   "metadata": {},
   "outputs": [
    {
     "data": {
      "text/markdown": [
       "`Vybrán projekt *demo*.`"
      ],
      "text/plain": [
       "<IPython.core.display.Markdown object>"
      ]
     },
     "metadata": {},
     "output_type": "display_data"
    }
   ],
   "source": [
    "%project set demo"
   ]
  },
  {
   "cell_type": "code",
   "execution_count": 3,
   "id": "0ab8b029",
   "metadata": {},
   "outputs": [
    {
     "data": {
      "text/markdown": [
       "```Projekt: **demo** \t se nachází v: *g:\\Můj disk\\Projekty\\ArduinoColab\\arduino_kernel\\arduino_projects\\demo\\sketch*```"
      ],
      "text/plain": [
       "<IPython.core.display.Markdown object>"
      ]
     },
     "metadata": {},
     "output_type": "display_data"
    }
   ],
   "source": [
    "%project get"
   ]
  },
  {
   "cell_type": "code",
   "execution_count": 4,
   "id": "85b3eec1",
   "metadata": {},
   "outputs": [
    {
     "data": {
      "text/markdown": [
       "```Project: **demo** ```\n",
       " ```// No globals variables defined\n",
       "\n",
       "\n",
       "// No functions defined\n",
       "\n",
       "\n",
       "void setup() {\n",
       "\t//Setup code goes here\n",
       "}\n",
       "\n",
       "\n",
       "void loop() {\n",
       "\t//Loop code goes here\n",
       "}\n",
       "\n",
       "\n",
       "```"
      ],
      "text/plain": [
       "<IPython.core.display.Markdown object>"
      ]
     },
     "metadata": {},
     "output_type": "display_data"
    }
   ],
   "source": [
    "%project show"
   ]
  },
  {
   "cell_type": "code",
   "execution_count": 4,
   "id": "2d0de739",
   "metadata": {},
   "outputs": [
    {
     "data": {
      "text/markdown": [
       "```\n",
       " Project exported and saved as:g:\\Můj disk\\Projekty\\ArduinoColab\\arduino_kernel\\arduino_projects\\demo\\sketch\\sketch.ino\n",
       "```"
      ],
      "text/plain": [
       "<IPython.core.display.Markdown object>"
      ]
     },
     "metadata": {},
     "output_type": "display_data"
    }
   ],
   "source": [
    "%project export"
   ]
  },
  {
   "cell_type": "code",
   "execution_count": 7,
   "id": "938b9b92",
   "metadata": {},
   "outputs": [],
   "source": [
    "%project delete"
   ]
  },
  {
   "cell_type": "code",
   "execution_count": 5,
   "id": "021db892",
   "metadata": {},
   "outputs": [
    {
     "data": {
      "text/markdown": [
       "`Kód přidán do sekce globals`"
      ],
      "text/plain": [
       "<IPython.core.display.Markdown object>"
      ]
     },
     "metadata": {},
     "output_type": "display_data"
    }
   ],
   "source": [
    "%%code globals\n",
    "int led = 13;"
   ]
  },
  {
   "cell_type": "code",
   "execution_count": 6,
   "id": "a55edcb5",
   "metadata": {},
   "outputs": [
    {
     "data": {
      "text/markdown": [
       "`Kód přidán do sekce globals`"
      ],
      "text/plain": [
       "<IPython.core.display.Markdown object>"
      ]
     },
     "metadata": {},
     "output_type": "display_data"
    }
   ],
   "source": [
    "%%code globals\n",
    "int timer = 500;"
   ]
  },
  {
   "cell_type": "code",
   "execution_count": 7,
   "id": "bf655c16",
   "metadata": {},
   "outputs": [
    {
     "data": {
      "text/markdown": [
       "`Kód přidán do sekce setup`"
      ],
      "text/plain": [
       "<IPython.core.display.Markdown object>"
      ]
     },
     "metadata": {},
     "output_type": "display_data"
    }
   ],
   "source": [
    "%%code setup\n",
    "pinMode(led, OUTPUT);"
   ]
  },
  {
   "cell_type": "code",
   "execution_count": 8,
   "id": "18ab2394",
   "metadata": {},
   "outputs": [
    {
     "data": {
      "text/markdown": [
       "`Kód přidán do sekce setup`"
      ],
      "text/plain": [
       "<IPython.core.display.Markdown object>"
      ]
     },
     "metadata": {},
     "output_type": "display_data"
    }
   ],
   "source": [
    "%%code setup\n",
    "pinMode(led, OUTPUT);"
   ]
  },
  {
   "cell_type": "code",
   "execution_count": 9,
   "id": "d3bf8d5a",
   "metadata": {},
   "outputs": [
    {
     "data": {
      "text/markdown": [
       "`Kód přidán do sekce loop`"
      ],
      "text/plain": [
       "<IPython.core.display.Markdown object>"
      ]
     },
     "metadata": {},
     "output_type": "display_data"
    }
   ],
   "source": [
    "%%code loop\n",
    "digitalWrite(led, HIGH); delay(timer);\n",
    "digitalWrite(led, LOW);  delay(timer);"
   ]
  },
  {
   "cell_type": "code",
   "execution_count": 10,
   "id": "c357ee22",
   "metadata": {},
   "outputs": [
    {
     "data": {
      "text/markdown": [
       "```Project: **demo** ```\n",
       " ```int led = 13;\n",
       "int timer = 500;\n",
       "\n",
       "\n",
       "// No functions defined\n",
       "\n",
       "\n",
       "void setup() {\n",
       "\tpinMode(led, OUTPUT);\n",
       "\tpinMode(led, OUTPUT);\n",
       "}\n",
       "\n",
       "\n",
       "void loop() {\n",
       "\tdigitalWrite(led, HIGH); delay(timer);\n",
       "digitalWrite(led, LOW);  delay(timer);\n",
       "}\n",
       "\n",
       "\n",
       "```"
      ],
      "text/plain": [
       "<IPython.core.display.Markdown object>"
      ]
     },
     "metadata": {},
     "output_type": "display_data"
    }
   ],
   "source": [
    "%project show"
   ]
  },
  {
   "cell_type": "code",
   "execution_count": 11,
   "id": "b78d6175",
   "metadata": {},
   "outputs": [
    {
     "data": {
      "text/markdown": [
       "**Chyba: Není vybrána žádná deska.**"
      ],
      "text/plain": [
       "<IPython.core.display.Markdown object>"
      ]
     },
     "metadata": {},
     "output_type": "display_data"
    }
   ],
   "source": [
    "%board show"
   ]
  },
  {
   "cell_type": "code",
   "execution_count": 12,
   "id": "5ba450e5",
   "metadata": {},
   "outputs": [
    {
     "data": {
      "text/markdown": [
       "**Použití: `%board select` `<deska>` `<?port>` nebo `%board show`, `list`, `compile`, `upload`**"
      ],
      "text/plain": [
       "<IPython.core.display.Markdown object>"
      ]
     },
     "metadata": {},
     "output_type": "display_data"
    }
   ],
   "source": [
    "%board select "
   ]
  },
  {
   "cell_type": "code",
   "execution_count": 13,
   "id": "dbfedc64",
   "metadata": {},
   "outputs": [
    {
     "data": {
      "text/markdown": [
       "`Deska nastavena na: uno, port: COM5`"
      ],
      "text/plain": [
       "<IPython.core.display.Markdown object>"
      ]
     },
     "metadata": {},
     "output_type": "display_data"
    },
    {
     "data": {
      "text/markdown": [
       "`Aktuální deska: uno (FQBN: arduino:avr:uno), port: COM5`"
      ],
      "text/plain": [
       "<IPython.core.display.Markdown object>"
      ]
     },
     "metadata": {},
     "output_type": "display_data"
    }
   ],
   "source": [
    "%board select uno COM5\n",
    "%board show"
   ]
  },
  {
   "cell_type": "code",
   "execution_count": 22,
   "id": "bc29b969",
   "metadata": {},
   "outputs": [
    {
     "name": "stdout",
     "output_type": "stream",
     "text": [
      "Kompiluji: g:\\Můj disk\\Projekty\\ArduinoColab\\arduino_kernel\\tools\\arduino-cli.exe compile g:\\Můj disk\\Projekty\\ArduinoColab\\arduino_kernel\\arduino_projects\\demo\\sketch\\sketch.ino -p COM5 -b arduino:avr:uno\n",
      "Sketch uses 966 bytes (2%) of program storage space. Maximum is 32256 bytes.\n",
      "Global variables use 9 bytes (0%) of dynamic memory, leaving 2039 bytes for local variables. Maximum is 2048 bytes.\n",
      "\n",
      "Nahrávám: g:\\Můj disk\\Projekty\\ArduinoColab\\arduino_kernel\\tools\\arduino-cli.exe upload g:\\Můj disk\\Projekty\\ArduinoColab\\arduino_kernel\\arduino_projects\\demo\\sketch\\sketch.ino -p COM5 -b arduino:avr:uno\n",
      "New upload port: COM5 (serial)\n",
      "\n"
     ]
    },
    {
     "data": {
      "text/markdown": [
       "`Kód úspěšně nahrán na desku.`"
      ],
      "text/plain": [
       "<IPython.core.display.Markdown object>"
      ]
     },
     "metadata": {},
     "output_type": "display_data"
    }
   ],
   "source": [
    "%board upload"
   ]
  }
 ],
 "metadata": {
  "kernelspec": {
   "display_name": "Python 3",
   "language": "python",
   "name": "python3"
  },
  "language_info": {
   "codemirror_mode": {
    "name": "ipython",
    "version": 3
   },
   "file_extension": ".py",
   "mimetype": "text/x-python",
   "name": "python",
   "nbconvert_exporter": "python",
   "pygments_lexer": "ipython3",
   "version": "3.10.11"
  }
 },
 "nbformat": 4,
 "nbformat_minor": 5
}
